{
 "cells": [
  {
   "cell_type": "markdown",
   "metadata": {},
   "source": [
    "# MODEL BUILDING"
   ]
  },
  {
   "cell_type": "markdown",
   "metadata": {},
   "source": [
    "### Hans Schumann and Augie Doebling\n",
    "### 27.April 2018 - 5.May 2018"
   ]
  },
  {
   "cell_type": "markdown",
   "metadata": {},
   "source": [
    "Looking at building a model to show the probability of bitcoin increasing price over a given time."
   ]
  },
  {
   "cell_type": "code",
   "execution_count": 2,
   "metadata": {
    "collapsed": true
   },
   "outputs": [],
   "source": [
    "\"\"\"\n",
    "This file will take data from the SQL database and perform exploratory analysis for model building\n",
    "\"\"\"\n",
    "\n",
    "## import all packages / other files needed\n",
    "import pymysql\n",
    "import numpy as np\n",
    "import pandas as pd\n",
    "import helpers\n",
    "import matplotlib.pyplot as plt\n",
    "%matplotlib inline"
   ]
  },
  {
   "cell_type": "code",
   "execution_count": 3,
   "metadata": {},
   "outputs": [],
   "source": [
    "## create credentials\n",
    "DB_USERNAME = \"\"\n",
    "DB_PASSWORD = \"\"\n",
    "with open(\"creds.txt\", \"r\") as creds:\n",
    "    DB_USERNAME = creds.readline()[:-1]\n",
    "    DB_PASSWORD = creds.readline()[:-1]\n",
    "\n",
    "connection = pymysql.connect(host='seniorproject.cxbqypcd9gwp.us-east-2.rds.amazonaws.com',\n",
    "                             user=DB_USERNAME,\n",
    "                             password=DB_PASSWORD,\n",
    "                             db='seniorproject')\n",
    "## get all the rows from the sql database\n",
    "cursor = connection.cursor()\n",
    "sentimentQuery = \"SELECT * FROM sentiment\"\n",
    "cursor.execute(sentimentQuery)\n",
    "sentimentRows = cursor.fetchall()\n",
    "## put all the rows in a dataframe\n",
    "sentiment = pd.DataFrame(list(sentimentRows),\n",
    "                         columns = ['key','id','datetime','currency','price','logprice',\n",
    "                                    'times','count','favorites','retweets','avg_sentiment'])\n",
    "\n",
    "## add day of the week variable\n",
    "sentiment['datetime'] = pd.to_datetime(sentiment['datetime'])\n",
    "sentiment['day_of_week'] = sentiment['datetime'].dt.weekday_name\n",
    "sentiment = pd.concat([sentiment,pd.get_dummies(sentiment['day_of_week'])],axis = 1)\n",
    "\n",
    "## convert necessary columns to numeric\n",
    "sentiment['price'] = pd.to_numeric(sentiment['price'])\n",
    "sentiment['logprice'] = pd.to_numeric(sentiment['logprice'])\n",
    "sentiment['times'] = pd.to_numeric(sentiment['times'])\n",
    "sentiment['count'] = pd.to_numeric(sentiment['count'])\n",
    "sentiment['favorites'] = pd.to_numeric(sentiment['favorites'])\n",
    "sentiment['retweets'] = pd.to_numeric(sentiment['retweets'])\n",
    "sentiment['avg_sentiment'] = pd.to_numeric(sentiment['avg_sentiment'])"
   ]
  },
  {
   "cell_type": "markdown",
   "metadata": {
    "collapsed": true
   },
   "source": [
    "For this first model, we will look at the past data from a week prior.  Using this, we can develop a model to predict the probability of bitcoin increasing in price at a certain time in the future."
   ]
  },
  {
   "cell_type": "markdown",
   "metadata": {},
   "source": [
    "First we will set up the data and then divide it into a training and testing set"
   ]
  },
  {
   "cell_type": "code",
   "execution_count": 91,
   "metadata": {
    "collapsed": true
   },
   "outputs": [],
   "source": [
    "def create_rolling_sums(df,times):\n",
    "    \"\"\"\n",
    "    Creates the training and testing sets with sums of the tweet variables\n",
    "    for given time periods as specified\n",
    "    :param df: the dataframe to use\n",
    "    :param times: an array of the times wanted \n",
    "    :return dataframe with the created variables\n",
    "    \"\"\"\n",
    "    for i in range(len(times)):\n",
    "        df[('sum' + str(times[i]) + '_count')] = df['count'].rolling(times[i]-1).sum().fillna(method = 'bfill')\n",
    "        df[('sum' + str(times[i]) + '_favorites')] = df['favorites'].rolling(times[i]-1).sum().fillna(method = 'bfill')\n",
    "        df[('sum' + str(times[i]) + '_retweets')] = df['retweets'].rolling(times[i]-1).sum().fillna(method = 'bfill')\n",
    "        df[('sum' + str(times[i]) + '_avg_sentiment')] = df['avg_sentiment'].rolling(times[i]-1).sum().fillna(method = 'bfill')\n",
    "        # subtract all but the time period of interest\n",
    "        if (i > 1):\n",
    "            df[('sum' + str(times[i]) + '_count')] = df[('sum' + str(times[i]) + '_count')] - df['count'].rolling(times[i-1]-1).sum().fillna(method = 'bfill')\n",
    "            df[('sum' + str(times[i]) + '_favorites')] = df[('sum' + str(times[i]) + '_favorites')] - df['favorites'].rolling(times[i-1]-1).sum().fillna(method = 'bfill')\n",
    "            df[('sum' + str(times[i]) + '_retweets')] = df[('sum' + str(times[i]) + '_retweets')] - df['retweets'].rolling(times[i-1]-1).sum().fillna(method = 'bfill')\n",
    "            df[('sum' + str(times[i]) + '_avg_sentiment')] = df[('sum' + str(times[i]) + '_avg_sentiment')] - df['avg_sentiment'].rolling(times[i-1]-1).sum().fillna(method = 'bfill')\n",
    "    return df"
   ]
  },
  {
   "cell_type": "code",
   "execution_count": 94,
   "metadata": {},
   "outputs": [],
   "source": [
    "dummy_df = helpers.create_rolling_sums(sentiment,[1440,2880,4320])"
   ]
  },
  {
   "cell_type": "code",
   "execution_count": 95,
   "metadata": {},
   "outputs": [],
   "source": [
    "## create price changes for certain time periods in advance\n",
    "dummy_df['price_change_1day'] = (dummy_df['price'].shift(-1440) - dummy_df['price']).fillna(method = 'ffill')\n",
    "dummy_df['price_change_2days'] = (dummy_df['price'].shift(-2880) - dummy_df['price']).fillna(method = 'ffill')\n",
    "dummy_df['price_change_3days'] = (dummy_df['price'].shift(-4320) - dummy_df['price']).fillna(method = 'ffill')"
   ]
  },
  {
   "cell_type": "code",
   "execution_count": 103,
   "metadata": {},
   "outputs": [],
   "source": [
    "## divide into the training and testing set\n",
    "x_vars = ['count','favorites','retweets','avg_sentiment',\n",
    "          'sum1440_count','sum1440_favorites','sum1440_retweets','sum1440_avg_sentiment',\n",
    "          'sum2880_count','sum2880_favorites','sum2880_retweets','sum2880_avg_sentiment',\n",
    "          'sum4320_count','sum4320_favorites','sum4320_retweets','sum4320_avg_sentiment',\n",
    "          'Sunday','Monday','Tuesday','Wednesday','Thursday','Friday','Saturday','Sunday']\n",
    "y_var = 'price_change_1day'\n",
    "\n",
    "dummy_df = dummy_df.sample(frac = 1)\n",
    "n = int(0.75 * len(dummy_df))\n",
    "train = dummy_df[:n]\n",
    "test = dummy_df[n:]\n",
    "x_train = train[x_vars]\n",
    "x_test = test[x_vars]\n",
    "\n",
    "y_train = train[y_var]\n",
    "y_test = test[y_var]"
   ]
  },
  {
   "cell_type": "markdown",
   "metadata": {},
   "source": [
    "### Linear Model"
   ]
  },
  {
   "cell_type": "code",
   "execution_count": 48,
   "metadata": {},
   "outputs": [
    {
     "data": {
      "text/plain": [
       "LinearRegression(copy_X=True, fit_intercept=True, n_jobs=1, normalize=False)"
      ]
     },
     "execution_count": 48,
     "metadata": {},
     "output_type": "execute_result"
    }
   ],
   "source": [
    "from sklearn import linear_model\n",
    "lm = linear_model.LinearRegression()\n",
    "lm.fit(x_train, y_train)"
   ]
  },
  {
   "cell_type": "code",
   "execution_count": 49,
   "metadata": {},
   "outputs": [
    {
     "data": {
      "text/plain": [
       "0.12423591946233382"
      ]
     },
     "execution_count": 49,
     "metadata": {},
     "output_type": "execute_result"
    }
   ],
   "source": [
    "lm.score(x_test, y_test)"
   ]
  },
  {
   "cell_type": "markdown",
   "metadata": {},
   "source": [
    "### KNN Regressor\n",
    "For the price increase of Bitcoin in the next day."
   ]
  },
  {
   "cell_type": "code",
   "execution_count": 104,
   "metadata": {},
   "outputs": [
    {
     "data": {
      "text/plain": [
       "KNeighborsRegressor(algorithm='auto', leaf_size=30, metric='minkowski',\n",
       "          metric_params=None, n_jobs=1, n_neighbors=101, p=2,\n",
       "          weights='uniform')"
      ]
     },
     "execution_count": 104,
     "metadata": {},
     "output_type": "execute_result"
    }
   ],
   "source": [
    "from sklearn.neighbors import KNeighborsRegressor\n",
    "\n",
    "knn_reg = KNeighborsRegressor(n_neighbors = 101)\n",
    "knn_reg.fit(x_train,y_train)"
   ]
  },
  {
   "cell_type": "code",
   "execution_count": 105,
   "metadata": {},
   "outputs": [
    {
     "data": {
      "text/plain": [
       "0.96804423515310678"
      ]
     },
     "execution_count": 105,
     "metadata": {},
     "output_type": "execute_result"
    }
   ],
   "source": [
    "y_pred = knn_reg.predict(x_test)\n",
    "knn_reg.score(x_test,y_test)"
   ]
  },
  {
   "cell_type": "code",
   "execution_count": 106,
   "metadata": {
    "scrolled": true
   },
   "outputs": [
    {
     "data": {
      "text/plain": [
       "<matplotlib.lines.Line2D at 0x20aa14f21d0>"
      ]
     },
     "execution_count": 106,
     "metadata": {},
     "output_type": "execute_result"
    },
    {
     "data": {
      "image/png": "[encoded data removed]",
      "text/plain": [
       "<matplotlib.figure.Figure at 0x20a854d7ef0>"
      ]
     },
     "metadata": {},
     "output_type": "display_data"
    }
   ],
   "source": [
    "plt.plot(y_pred,y_test - y_pred,'o')\n",
    "plt.ylabel('Residual')\n",
    "plt.xlabel('Predicted Price Change')\n",
    "plt.axhline(y = 0,color = 'red')"
   ]
  },
  {
   "cell_type": "markdown",
   "metadata": {},
   "source": [
    "This may be an artifically enhanced model due to the random split of the training and testing set.  A more accurate way may be to use the first 70% to predict the final 30%.  This may have problems though due to the lack of extreme price changes until late.  \n",
    "As of right now though, the KNN seems to be undoubtedly the most promising way to predict price changes in Bitcoin."
   ]
  },
  {
   "cell_type": "code",
   "execution_count": 80,
   "metadata": {
    "collapsed": true
   },
   "outputs": [],
   "source": [
    "## divide into the training and testing set\n",
    "dummy_df = helpers.create_rolling_sums(sentiment,[1440,2880,4320])\n",
    "\n",
    "n = int(0.75 * len(dummy_df))\n",
    "train = dummy_df2[:n]\n",
    "test = dummy_df2[n:]\n",
    "x_train = train[x_vars]\n",
    "x_test = test[x_vars]\n",
    "\n",
    "y_train = train[y_var]\n",
    "y_test = test[y_var]"
   ]
  },
  {
   "cell_type": "code",
   "execution_count": 81,
   "metadata": {},
   "outputs": [
    {
     "data": {
      "text/plain": [
       "KNeighborsRegressor(algorithm='auto', leaf_size=30, metric='minkowski',\n",
       "          metric_params=None, n_jobs=1, n_neighbors=101, p=2,\n",
       "          weights='uniform')"
      ]
     },
     "execution_count": 81,
     "metadata": {},
     "output_type": "execute_result"
    }
   ],
   "source": [
    "knn_reg = KNeighborsRegressor(n_neighbors = 101)\n",
    "knn_reg.fit(x_train,y_train)"
   ]
  },
  {
   "cell_type": "code",
   "execution_count": 82,
   "metadata": {},
   "outputs": [
    {
     "data": {
      "text/plain": [
       "-0.020956475651527917"
      ]
     },
     "execution_count": 82,
     "metadata": {},
     "output_type": "execute_result"
    }
   ],
   "source": [
    "knn_reg.score(x_test,y_test)"
   ]
  },
  {
   "cell_type": "code",
   "execution_count": 83,
   "metadata": {},
   "outputs": [
    {
     "data": {
      "text/plain": [
       "KNeighborsClassifier(algorithm='auto', leaf_size=30, metric='minkowski',\n",
       "           metric_params=None, n_jobs=1, n_neighbors=100, p=2,\n",
       "           weights='uniform')"
      ]
     },
     "execution_count": 83,
     "metadata": {},
     "output_type": "execute_result"
    }
   ],
   "source": [
    "knn = KNeighborsClassifier(n_neighbors = 100)\n",
    "knn.fit(x_train,y_train > 0)"
   ]
  },
  {
   "cell_type": "code",
   "execution_count": 84,
   "metadata": {},
   "outputs": [
    {
     "data": {
      "text/plain": [
       "0.53936103165753624"
      ]
     },
     "execution_count": 84,
     "metadata": {},
     "output_type": "execute_result"
    }
   ],
   "source": [
    "knn.score(x_test,y_test > 0)"
   ]
  },
  {
   "cell_type": "code",
   "execution_count": 88,
   "metadata": {},
   "outputs": [
    {
     "data": {
      "text/plain": [
       "Timestamp('2017-09-12 08:17:00')"
      ]
     },
     "execution_count": 88,
     "metadata": {},
     "output_type": "execute_result"
    }
   ],
   "source": [
    "sentiment.iloc[309402]['datetime']"
   ]
  },
  {
   "cell_type": "markdown",
   "metadata": {},
   "source": [
    "Training was very bad in this case.  This is due though to the ending of the 70% training set.  It ends in Spetember, well before the price really begins to spike and dip vigorously.  This may lead to the thought of the other training and testing being better, but we must use it with caution due to the possible faults of independence in the training data."
   ]
  },
  {
   "cell_type": "markdown",
   "metadata": {},
   "source": [
    "### Logistic Regression"
   ]
  },
  {
   "cell_type": "code",
   "execution_count": 50,
   "metadata": {},
   "outputs": [
    {
     "data": {
      "text/plain": [
       "LogisticRegression(C=1.0, class_weight=None, dual=False, fit_intercept=True,\n",
       "          intercept_scaling=1, max_iter=100, multi_class='ovr', n_jobs=1,\n",
       "          penalty='l2', random_state=None, solver='liblinear', tol=0.0001,\n",
       "          verbose=0, warm_start=False)"
      ]
     },
     "execution_count": 50,
     "metadata": {},
     "output_type": "execute_result"
    }
   ],
   "source": [
    "from sklearn import linear_model\n",
    "lm = linear_model.LogisticRegression()\n",
    "lm.fit(x_train, y_train > 0)"
   ]
  },
  {
   "cell_type": "code",
   "execution_count": 51,
   "metadata": {},
   "outputs": [
    {
     "data": {
      "text/plain": [
       "(0.61184854801958599, 0.61332234449992729)"
      ]
     },
     "execution_count": 51,
     "metadata": {},
     "output_type": "execute_result"
    }
   ],
   "source": [
    "lm.score(x_test, y_test > 0),np.mean(y_test > 0)"
   ]
  },
  {
   "cell_type": "markdown",
   "metadata": {},
   "source": [
    "### KNN Classifier\n",
    "For whether or not Bitcoin increases price."
   ]
  },
  {
   "cell_type": "code",
   "execution_count": 107,
   "metadata": {},
   "outputs": [
    {
     "data": {
      "text/plain": [
       "KNeighborsClassifier(algorithm='auto', leaf_size=30, metric='minkowski',\n",
       "           metric_params=None, n_jobs=1, n_neighbors=101, p=2,\n",
       "           weights='uniform')"
      ]
     },
     "execution_count": 107,
     "metadata": {},
     "output_type": "execute_result"
    }
   ],
   "source": [
    "from sklearn.neighbors import KNeighborsClassifier\n",
    "\n",
    "knn = KNeighborsClassifier(n_neighbors = 101)\n",
    "knn.fit(x_train,y_train > 0)"
   ]
  },
  {
   "cell_type": "code",
   "execution_count": 108,
   "metadata": {},
   "outputs": [
    {
     "data": {
      "text/plain": [
       "0.95526251999806078"
      ]
     },
     "execution_count": 108,
     "metadata": {},
     "output_type": "execute_result"
    }
   ],
   "source": [
    "knn.score(x_test,y_test > 0)"
   ]
  },
  {
   "cell_type": "markdown",
   "metadata": {},
   "source": [
    "### Convolutional NN"
   ]
  },
  {
   "cell_type": "markdown",
   "metadata": {},
   "source": [
    "This will probably be the best, but I am unsure of how exactly it will work"
   ]
  },
  {
   "cell_type": "code",
   "execution_count": 29,
   "metadata": {},
   "outputs": [],
   "source": [
    "from keras.models import Sequential\n",
    "from keras.layers import Dense, Activation, Flatten, Convolution1D, Dropout\n",
    "from keras.optimizers import SGD\n",
    "from keras.utils import np_utils"
   ]
  },
  {
   "cell_type": "code",
   "execution_count": 30,
   "metadata": {
    "collapsed": true
   },
   "outputs": [],
   "source": [
    "model = Sequential()\n",
    "model.add()"
   ]
  },
  {
   "cell_type": "code",
   "execution_count": null,
   "metadata": {
    "collapsed": true
   },
   "outputs": [],
   "source": []
  }
 ],
 "metadata": {
  "kernelspec": {
   "display_name": "Python 3",
   "language": "python",
   "name": "python3"
  }
 },
 "nbformat": 4,
 "nbformat_minor": 2
}
