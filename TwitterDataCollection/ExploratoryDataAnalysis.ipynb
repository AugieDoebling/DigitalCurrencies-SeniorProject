{
 "cells": [
  {
   "cell_type": "markdown",
   "metadata": {},
   "source": [
    "# EXPLORATORY DATA ANALYSIS\n",
    "### Hans Schumann and Augie Doebling\n",
    "### 25.April 2018\n",
    "\n",
    "Looking at bitcoin prices using twitter meta-data"
   ]
  },
  {
   "cell_type": "code",
   "execution_count": 1,
   "metadata": {
    "collapsed": true
   },
   "outputs": [],
   "source": [
    "\"\"\"\n",
    "This file will take data from the SQL database and perform exploratory analysis for model building\n",
    "\"\"\"\n",
    "\n",
    "## import all packages / other files needed\n",
    "import pymysql\n",
    "import numpy as np\n",
    "import pandas as pd\n",
    "import helpers\n",
    "import matplotlib.pyplot as plt\n",
    "%matplotlib inline"
   ]
  },
  {
   "cell_type": "markdown",
   "metadata": {
    "collapsed": true
   },
   "source": [
    "### Connecting to the database and creating a dataframe for the tweet and price data"
   ]
  },
  {
   "cell_type": "code",
   "execution_count": 108,
   "metadata": {
    "collapsed": true
   },
   "outputs": [],
   "source": [
    "## create credentials\n",
    "DB_USERNAME = \"\"\n",
    "DB_PASSWORD = \"\"\n",
    "with open(\"creds.txt\", \"r\") as creds:\n",
    "    DB_USERNAME = creds.readline()[:-1]\n",
    "    DB_PASSWORD = creds.readline()[:-1]\n",
    "\n",
    "connection = pymysql.connect(host='seniorproject.cxbqypcd9gwp.us-east-2.rds.amazonaws.com',\n",
    "                             user=DB_USERNAME,\n",
    "                             password=DB_PASSWORD,\n",
    "                             db='seniorproject')\n",
    "## get all the rows from the sql database\n",
    "cursor = connection.cursor()\n",
    "sentimentQuery = \"SELECT * FROM sentiment\"\n",
    "cursor.execute(sentimentQuery)\n",
    "sentimentRows = cursor.fetchall()\n",
    "## put all the rows in a dataframe\n",
    "sentiment = pd.DataFrame(list(sentimentRows),\n",
    "                         columns = ['key','id','datetime','currency','price','logprice',\n",
    "                                    'times','count','favorites','retweets','avg_sentiment'])\n",
    "\n",
    "## add day of the week variable\n",
    "sentiment['datetime'] = pd.to_datetime(sentiment['datetime'])\n",
    "sentiment['day_of_week'] = sentiment['datetime'].dt.weekday_name\n",
    "sentiment = pd.concat([sentiment,pd.get_dummies(sentiment['day_of_week'])],axis = 1)\n",
    "\n",
    "## convert necessary columns to numeric\n",
    "sentiment['price'] = pd.to_numeric(sentiment['price'])\n",
    "sentiment['logprice'] = pd.to_numeric(sentiment['logprice'])\n",
    "sentiment['times'] = pd.to_numeric(sentiment['times'])\n",
    "sentiment['count'] = pd.to_numeric(sentiment['count'])\n",
    "sentiment['favorites'] = pd.to_numeric(sentiment['favorites'])\n",
    "sentiment['retweets'] = pd.to_numeric(sentiment['retweets'])\n",
    "sentiment['avg_sentiment'] = pd.to_numeric(sentiment['avg_sentiment'])"
   ]
  },
  {
   "cell_type": "markdown",
   "metadata": {},
   "source": [
    "### Here, we will do some data cleaning"
   ]
  },
  {
   "cell_type": "code",
   "execution_count": 110,
   "metadata": {
    "collapsed": true
   },
   "outputs": [],
   "source": [
    "## calculate price change for one minute\n",
    "# sentiment.head()['price_change'] = sentiment.head()['price'] - sentiment.head()['price'].shift(-1)\n",
    "sentiment['price_change_1'] = sentiment['price'].shift(-1) - sentiment['price']\n",
    "\n",
    "## calculate price change for 5 minutes\n",
    "sentiment['price_change_5'] = sentiment['price'].shift(-5) - sentiment['price']\n",
    "\n",
    "## calculate price change for 30 minutes\n",
    "sentiment['price_change_30'] = sentiment['price'].shift(-30) - sentiment['price']\n",
    "\n",
    "## calculate price change for one hour\n",
    "sentiment['price_change_60'] = sentiment['price'].shift(-60) - sentiment['price']\n",
    "\n",
    "sentiment = sentiment.fillna(0)"
   ]
  },
  {
   "cell_type": "code",
   "execution_count": 100,
   "metadata": {},
   "outputs": [
    {
     "data": {
      "text/html": [
       "<div>\n",
       "<style>\n",
       "    .dataframe thead tr:only-child th {\n",
       "        text-align: right;\n",
       "    }\n",
       "\n",
       "    .dataframe thead th {\n",
       "        text-align: left;\n",
       "    }\n",
       "\n",
       "    .dataframe tbody tr th {\n",
       "        vertical-align: top;\n",
       "    }\n",
       "</style>\n",
       "<table border=\"1\" class=\"dataframe\">\n",
       "  <thead>\n",
       "    <tr style=\"text-align: right;\">\n",
       "      <th></th>\n",
       "      <th>key</th>\n",
       "      <th>id</th>\n",
       "      <th>datetime</th>\n",
       "      <th>currency</th>\n",
       "      <th>price</th>\n",
       "      <th>logprice</th>\n",
       "      <th>times</th>\n",
       "      <th>count</th>\n",
       "      <th>favorites</th>\n",
       "      <th>retweets</th>\n",
       "      <th>...</th>\n",
       "      <th>Monday</th>\n",
       "      <th>Saturday</th>\n",
       "      <th>Sunday</th>\n",
       "      <th>Thursday</th>\n",
       "      <th>Tuesday</th>\n",
       "      <th>Wednesday</th>\n",
       "      <th>price_change_1</th>\n",
       "      <th>price_change_5</th>\n",
       "      <th>price_change_30</th>\n",
       "      <th>price_change_60</th>\n",
       "    </tr>\n",
       "  </thead>\n",
       "  <tbody>\n",
       "    <tr>\n",
       "      <th>0</th>\n",
       "      <td>0</td>\n",
       "      <td>1038612</td>\n",
       "      <td>2017-01-01 00:00:00</td>\n",
       "      <td>bitcoin</td>\n",
       "      <td>973.363509</td>\n",
       "      <td>6.880758</td>\n",
       "      <td>1038593</td>\n",
       "      <td>19</td>\n",
       "      <td>9</td>\n",
       "      <td>11</td>\n",
       "      <td>...</td>\n",
       "      <td>0</td>\n",
       "      <td>0</td>\n",
       "      <td>1</td>\n",
       "      <td>0</td>\n",
       "      <td>0</td>\n",
       "      <td>0</td>\n",
       "      <td>0.000000</td>\n",
       "      <td>0.007885</td>\n",
       "      <td>-2.476834</td>\n",
       "      <td>-2.002977</td>\n",
       "    </tr>\n",
       "    <tr>\n",
       "      <th>1</th>\n",
       "      <td>1</td>\n",
       "      <td>1038613</td>\n",
       "      <td>2017-01-01 00:01:00</td>\n",
       "      <td>bitcoin</td>\n",
       "      <td>973.363509</td>\n",
       "      <td>6.880758</td>\n",
       "      <td>1038594</td>\n",
       "      <td>3</td>\n",
       "      <td>1</td>\n",
       "      <td>0</td>\n",
       "      <td>...</td>\n",
       "      <td>0</td>\n",
       "      <td>0</td>\n",
       "      <td>1</td>\n",
       "      <td>0</td>\n",
       "      <td>0</td>\n",
       "      <td>0</td>\n",
       "      <td>0.000000</td>\n",
       "      <td>0.020667</td>\n",
       "      <td>-2.476834</td>\n",
       "      <td>-1.761025</td>\n",
       "    </tr>\n",
       "    <tr>\n",
       "      <th>2</th>\n",
       "      <td>2</td>\n",
       "      <td>1038614</td>\n",
       "      <td>2017-01-01 00:02:00</td>\n",
       "      <td>bitcoin</td>\n",
       "      <td>973.363509</td>\n",
       "      <td>6.880758</td>\n",
       "      <td>1038595</td>\n",
       "      <td>5</td>\n",
       "      <td>1</td>\n",
       "      <td>0</td>\n",
       "      <td>...</td>\n",
       "      <td>0</td>\n",
       "      <td>0</td>\n",
       "      <td>1</td>\n",
       "      <td>0</td>\n",
       "      <td>0</td>\n",
       "      <td>0</td>\n",
       "      <td>-0.003509</td>\n",
       "      <td>0.018513</td>\n",
       "      <td>-2.463509</td>\n",
       "      <td>-1.761025</td>\n",
       "    </tr>\n",
       "    <tr>\n",
       "      <th>3</th>\n",
       "      <td>3</td>\n",
       "      <td>1038615</td>\n",
       "      <td>2017-01-01 00:03:00</td>\n",
       "      <td>bitcoin</td>\n",
       "      <td>973.360000</td>\n",
       "      <td>6.880754</td>\n",
       "      <td>1038596</td>\n",
       "      <td>3</td>\n",
       "      <td>3</td>\n",
       "      <td>4</td>\n",
       "      <td>...</td>\n",
       "      <td>0</td>\n",
       "      <td>0</td>\n",
       "      <td>1</td>\n",
       "      <td>0</td>\n",
       "      <td>0</td>\n",
       "      <td>0</td>\n",
       "      <td>0.027871</td>\n",
       "      <td>-0.868096</td>\n",
       "      <td>-2.460000</td>\n",
       "      <td>-2.517700</td>\n",
       "    </tr>\n",
       "    <tr>\n",
       "      <th>4</th>\n",
       "      <td>4</td>\n",
       "      <td>1038616</td>\n",
       "      <td>2017-01-01 00:04:00</td>\n",
       "      <td>bitcoin</td>\n",
       "      <td>973.387871</td>\n",
       "      <td>6.880783</td>\n",
       "      <td>1038597</td>\n",
       "      <td>3</td>\n",
       "      <td>0</td>\n",
       "      <td>0</td>\n",
       "      <td>...</td>\n",
       "      <td>0</td>\n",
       "      <td>0</td>\n",
       "      <td>1</td>\n",
       "      <td>0</td>\n",
       "      <td>0</td>\n",
       "      <td>0</td>\n",
       "      <td>-0.016476</td>\n",
       "      <td>-1.937806</td>\n",
       "      <td>-2.493183</td>\n",
       "      <td>-2.811840</td>\n",
       "    </tr>\n",
       "  </tbody>\n",
       "</table>\n",
       "<p>5 rows × 23 columns</p>\n",
       "</div>"
      ],
      "text/plain": [
       "   key       id            datetime currency       price  logprice    times  \\\n",
       "0    0  1038612 2017-01-01 00:00:00  bitcoin  973.363509  6.880758  1038593   \n",
       "1    1  1038613 2017-01-01 00:01:00  bitcoin  973.363509  6.880758  1038594   \n",
       "2    2  1038614 2017-01-01 00:02:00  bitcoin  973.363509  6.880758  1038595   \n",
       "3    3  1038615 2017-01-01 00:03:00  bitcoin  973.360000  6.880754  1038596   \n",
       "4    4  1038616 2017-01-01 00:04:00  bitcoin  973.387871  6.880783  1038597   \n",
       "\n",
       "   count  favorites  retweets       ...         Monday Saturday  Sunday  \\\n",
       "0     19          9        11       ...              0        0       1   \n",
       "1      3          1         0       ...              0        0       1   \n",
       "2      5          1         0       ...              0        0       1   \n",
       "3      3          3         4       ...              0        0       1   \n",
       "4      3          0         0       ...              0        0       1   \n",
       "\n",
       "   Thursday  Tuesday  Wednesday  price_change_1  price_change_5  \\\n",
       "0         0        0          0        0.000000        0.007885   \n",
       "1         0        0          0        0.000000        0.020667   \n",
       "2         0        0          0       -0.003509        0.018513   \n",
       "3         0        0          0        0.027871       -0.868096   \n",
       "4         0        0          0       -0.016476       -1.937806   \n",
       "\n",
       "   price_change_30  price_change_60  \n",
       "0        -2.476834        -2.002977  \n",
       "1        -2.476834        -1.761025  \n",
       "2        -2.463509        -1.761025  \n",
       "3        -2.460000        -2.517700  \n",
       "4        -2.493183        -2.811840  \n",
       "\n",
       "[5 rows x 23 columns]"
      ]
     },
     "execution_count": 100,
     "metadata": {},
     "output_type": "execute_result"
    }
   ],
   "source": [
    "sentiment.head()"
   ]
  },
  {
   "cell_type": "markdown",
   "metadata": {
    "collapsed": true
   },
   "source": [
    "### First, let's plot the price of bitcoin over our domain of time"
   ]
  },
  {
   "cell_type": "code",
   "execution_count": 4,
   "metadata": {},
   "outputs": [
    {
     "name": "stderr",
     "output_type": "stream",
     "text": [
      "C:\\Users\\Hans\\Anaconda3\\lib\\site-packages\\matplotlib\\cbook\\deprecation.py:106: MatplotlibDeprecationWarning: Adding an axes using the same arguments as a previous axes currently reuses the earlier instance.  In a future version, a new instance will always be created and returned.  Meanwhile, this warning can be suppressed, and the future behavior ensured, by passing a unique label to each axes instance.\n",
      "  warnings.warn(message, mplDeprecation, stacklevel=1)\n"
     ]
    },
    {
     "data": {
      "image/png": "[encoded data removed]",
      "text/plain": [
       "<matplotlib.figure.Figure at 0x1c7b022c630>"
      ]
     },
     "metadata": {},
     "output_type": "display_data"
    }
   ],
   "source": [
    "ticks = np.array(['01Jan17','01Apr17','01Jul17','01Oct17','01Jan18'])\n",
    "\n",
    "plt.plot(sentiment['price_change_1'],color = 'green')\n",
    "plt.title('Price Change of Bitcoin over 1 Minute')\n",
    "plt.xlabel('Date')\n",
    "plt.ylabel('Change in Price ($)')\n",
    "plt.xticks(np.array([0,101930,223963,327689,408301]),ticks,rotation = 45)\n",
    "ax = plt.axes()\n",
    "ax.grid(True)"
   ]
  },
  {
   "cell_type": "code",
   "execution_count": 60,
   "metadata": {},
   "outputs": [
    {
     "name": "stderr",
     "output_type": "stream",
     "text": [
      "C:\\Users\\Hans\\Anaconda3\\lib\\site-packages\\matplotlib\\cbook\\deprecation.py:106: MatplotlibDeprecationWarning: Adding an axes using the same arguments as a previous axes currently reuses the earlier instance.  In a future version, a new instance will always be created and returned.  Meanwhile, this warning can be suppressed, and the future behavior ensured, by passing a unique label to each axes instance.\n",
      "  warnings.warn(message, mplDeprecation, stacklevel=1)\n"
     ]
    },
    {
     "data": {
      "image/png": "[encoded data removed]",
      "text/plain": [
       "<matplotlib.figure.Figure at 0x19ccac4f6d8>"
      ]
     },
     "metadata": {},
     "output_type": "display_data"
    }
   ],
   "source": [
    "ticks = np.array(['01Jan17','01Apr17','01Jul17','01Oct17','01Jan18'])\n",
    "\n",
    "plt.plot(sentiment['price_change_60'],color = 'green')\n",
    "plt.title('Price Change of Bitcoin over 1 Hour')\n",
    "plt.xlabel('Date')\n",
    "plt.ylabel('Change in Price ($)')\n",
    "plt.xticks(np.array([0,101930,223963,327689,408301]),ticks,rotation = 45)\n",
    "ax = plt.axes()\n",
    "ax.grid(True)"
   ]
  },
  {
   "cell_type": "markdown",
   "metadata": {},
   "source": [
    "We see that the amount of variation in the price changes is very high as the time approaches the present day.  This is very interesting and is exactly what we want to tap into moving forward."
   ]
  },
  {
   "cell_type": "code",
   "execution_count": 67,
   "metadata": {},
   "outputs": [
    {
     "name": "stderr",
     "output_type": "stream",
     "text": [
      "C:\\Users\\Hans\\Anaconda3\\lib\\site-packages\\matplotlib\\cbook\\deprecation.py:106: MatplotlibDeprecationWarning: Adding an axes using the same arguments as a previous axes currently reuses the earlier instance.  In a future version, a new instance will always be created and returned.  Meanwhile, this warning can be suppressed, and the future behavior ensured, by passing a unique label to each axes instance.\n",
      "  warnings.warn(message, mplDeprecation, stacklevel=1)\n"
     ]
    },
    {
     "data": {
      "image/png": "[encoded data removed]",
      "text/plain": [
       "<matplotlib.figure.Figure at 0x19ccaae0588>"
      ]
     },
     "metadata": {},
     "output_type": "display_data"
    }
   ],
   "source": [
    "ticks = np.array(['01Jan17','01Apr17','01Jul17','01Oct17','01Jan18'])\n",
    "\n",
    "plt.plot(sentiment['count'],color = '#00aced')\n",
    "plt.title('Frequency of Tweets about Bitcoin')\n",
    "plt.xlabel('Date')\n",
    "plt.ylabel('Number of Tweets by Minute')\n",
    "plt.xticks(np.array([0,101930,223963,327689,408301]),ticks,rotation = 45)\n",
    "ax = plt.axes()\n",
    "ax.grid(True)"
   ]
  },
  {
   "cell_type": "markdown",
   "metadata": {},
   "source": [
    "In the plot above, we can see that there are generally not an overwhelming number of tweets.  Most of the time, the values are below 100 tweets per minute. A couple spikes are seen at various times, with the most extreme reaching over 400 tweets about bitcoin in a minute. \n",
    "\n",
    "Second though, the trend seems to be generally upward.  This is suggestive from a quick glance that the number of tweets could be predictive of the change in prices.  As more tweets appeared, we begin to see more variability in the change in price from minute to minute."
   ]
  },
  {
   "cell_type": "markdown",
   "metadata": {
    "collapsed": true
   },
   "source": [
    "### NOTES:\n",
    "There are a couple issues in the data.  Due to pulling issues from the twitter database, we have gaps in the data.  Sometimes, twitter did not allow us to grab specific days.  This therefore leads us to have a lag that is not for one minute prior, but instead a gap in time.  I am not completely sure how to deal with this issue.  It is common, but we also have most of the data in perfect succession by minute."
   ]
  },
  {
   "cell_type": "code",
   "execution_count": 29,
   "metadata": {},
   "outputs": [
    {
     "data": {
      "text/plain": [
       "day_of_week\n",
       "Friday       0.045695\n",
       "Monday       0.114656\n",
       "Saturday     0.001735\n",
       "Sunday       0.020017\n",
       "Thursday     0.071329\n",
       "Tuesday      0.013826\n",
       "Wednesday   -0.006644\n",
       "Name: price_change_1, dtype: float64"
      ]
     },
     "execution_count": 29,
     "metadata": {},
     "output_type": "execute_result"
    }
   ],
   "source": [
    "## price change by day of the week\n",
    "dow_mean = sentiment.groupby('day_of_week').agg('mean')['price_change_1']\n",
    "dow_mean"
   ]
  },
  {
   "cell_type": "markdown",
   "metadata": {},
   "source": [
    "Here, we can see a possibility that day will be an important factor for our price change analysis.  With this, we can see that Monday had the highest average change in price from minute to minute.  This may be from a delay in weekend trading, or some other factor.  Whatever it is, we will attempt to capitalize on this.\n",
    "\n",
    "I may use a different program (minitab, etc) to make a nice barplot to show this data.  Could be good in the presentation."
   ]
  },
  {
   "cell_type": "code",
   "execution_count": 30,
   "metadata": {},
   "outputs": [
    {
     "data": {
      "text/plain": [
       "day_of_week\n",
       "Friday       15.340920\n",
       "Monday       10.501752\n",
       "Saturday     10.144929\n",
       "Sunday       11.011301\n",
       "Thursday     18.152655\n",
       "Tuesday      10.362197\n",
       "Wednesday    11.889806\n",
       "Name: price_change_1, dtype: float64"
      ]
     },
     "execution_count": 30,
     "metadata": {},
     "output_type": "execute_result"
    }
   ],
   "source": [
    "dow_std = sentiment.groupby('day_of_week').agg('std')['price_change_1']\n",
    "dow_std"
   ]
  },
  {
   "cell_type": "markdown",
   "metadata": {},
   "source": [
    "Looking at the amount of fluctation, we could see the days with the highest standard deviation in the price change minute by minute are Thursday and Friday.  So once again, there could be importance in day of the week, and we will try to discover this in our future analyses."
   ]
  },
  {
   "cell_type": "markdown",
   "metadata": {},
   "source": [
    "### Quantitative Analysis"
   ]
  },
  {
   "cell_type": "markdown",
   "metadata": {},
   "source": [
    "I decided to look at the autocorrelations up to 5 days in advance.  Some results are outputted below"
   ]
  },
  {
   "cell_type": "code",
   "execution_count": 111,
   "metadata": {},
   "outputs": [
    {
     "data": {
      "text/plain": [
       "([<matplotlib.axis.XTick at 0x1c7e9708048>,\n",
       "  <matplotlib.axis.XTick at 0x1c7e9727ef0>,\n",
       "  <matplotlib.axis.XTick at 0x1c7e9680c88>,\n",
       "  <matplotlib.axis.XTick at 0x1c7e9836470>,\n",
       "  <matplotlib.axis.XTick at 0x1c7e985d908>,\n",
       "  <matplotlib.axis.XTick at 0x1c7e988e320>],\n",
       " <a list of 6 Text xticklabel objects>)"
      ]
     },
     "execution_count": 111,
     "metadata": {},
     "output_type": "execute_result"
    },
    {
     "data": {
      "image/png": "[encoded data removed]",
      "text/plain": [
       "<matplotlib.figure.Figure at 0x1c7d575e400>"
      ]
     },
     "metadata": {},
     "output_type": "display_data"
    }
   ],
   "source": [
    "autocorrs = []\n",
    "for i in range(1,1440*5,100):\n",
    "    a = sentiment['price_change_1'].autocorr(i)\n",
    "    autocorrs.append(a)\n",
    "\n",
    "plt.plot(autocorrs)\n",
    "plt.title('Autocorrelation of Price Changes for Various Times in the Future')\n",
    "plt.xlabel('Lag')\n",
    "plt.ylabel('Autocorrelation')\n",
    "plt.xticks([1,15,29,43,58,72],['1 min','1 day','2 days','3 days','4 days','5 days'],\n",
    "           rotation = 45)"
   ]
  },
  {
   "cell_type": "markdown",
   "metadata": {},
   "source": [
    "From the plot above, we can see that the autocorrelation tends to be around zero.  For any lags greater than a couple hours.  Also, we never really see an autocorrelation above a magnitude of 0.20.  This could be good for a linear model because we could assume indpendence of the price changes over time, roughly.  The goal though, will be to explain these changes with twitter data as well soon."
   ]
  },
  {
   "cell_type": "code",
   "execution_count": 61,
   "metadata": {},
   "outputs": [
    {
     "data": {
      "text/html": [
       "<div>\n",
       "<style>\n",
       "    .dataframe thead tr:only-child th {\n",
       "        text-align: right;\n",
       "    }\n",
       "\n",
       "    .dataframe thead th {\n",
       "        text-align: left;\n",
       "    }\n",
       "\n",
       "    .dataframe tbody tr th {\n",
       "        vertical-align: top;\n",
       "    }\n",
       "</style>\n",
       "<table border=\"1\" class=\"dataframe\">\n",
       "  <thead>\n",
       "    <tr style=\"text-align: right;\">\n",
       "      <th></th>\n",
       "      <th>key</th>\n",
       "      <th>id</th>\n",
       "      <th>datetime</th>\n",
       "      <th>currency</th>\n",
       "      <th>price</th>\n",
       "      <th>logprice</th>\n",
       "      <th>times</th>\n",
       "      <th>count</th>\n",
       "      <th>favorites</th>\n",
       "      <th>retweets</th>\n",
       "      <th>avg_sentiment</th>\n",
       "      <th>price_change_1</th>\n",
       "      <th>price_change_5</th>\n",
       "      <th>price_change_30</th>\n",
       "      <th>price_change_60</th>\n",
       "      <th>day_of_week</th>\n",
       "    </tr>\n",
       "  </thead>\n",
       "  <tbody>\n",
       "    <tr>\n",
       "      <th>0</th>\n",
       "      <td>0</td>\n",
       "      <td>1038612</td>\n",
       "      <td>2017-01-01 00:00:00</td>\n",
       "      <td>bitcoin</td>\n",
       "      <td>973.363509</td>\n",
       "      <td>6.880758</td>\n",
       "      <td>1038593</td>\n",
       "      <td>19</td>\n",
       "      <td>9</td>\n",
       "      <td>11</td>\n",
       "      <td>0.050175</td>\n",
       "      <td>0.000000</td>\n",
       "      <td>0.007885</td>\n",
       "      <td>-2.476834</td>\n",
       "      <td>-2.002977</td>\n",
       "      <td>Sunday</td>\n",
       "    </tr>\n",
       "    <tr>\n",
       "      <th>1</th>\n",
       "      <td>1</td>\n",
       "      <td>1038613</td>\n",
       "      <td>2017-01-01 00:01:00</td>\n",
       "      <td>bitcoin</td>\n",
       "      <td>973.363509</td>\n",
       "      <td>6.880758</td>\n",
       "      <td>1038594</td>\n",
       "      <td>3</td>\n",
       "      <td>1</td>\n",
       "      <td>0</td>\n",
       "      <td>0.045455</td>\n",
       "      <td>0.000000</td>\n",
       "      <td>0.020667</td>\n",
       "      <td>-2.476834</td>\n",
       "      <td>-1.761025</td>\n",
       "      <td>Sunday</td>\n",
       "    </tr>\n",
       "    <tr>\n",
       "      <th>2</th>\n",
       "      <td>2</td>\n",
       "      <td>1038614</td>\n",
       "      <td>2017-01-01 00:02:00</td>\n",
       "      <td>bitcoin</td>\n",
       "      <td>973.363509</td>\n",
       "      <td>6.880758</td>\n",
       "      <td>1038595</td>\n",
       "      <td>5</td>\n",
       "      <td>1</td>\n",
       "      <td>0</td>\n",
       "      <td>0.140000</td>\n",
       "      <td>-0.003509</td>\n",
       "      <td>0.018513</td>\n",
       "      <td>-2.463509</td>\n",
       "      <td>-1.761025</td>\n",
       "      <td>Sunday</td>\n",
       "    </tr>\n",
       "    <tr>\n",
       "      <th>3</th>\n",
       "      <td>3</td>\n",
       "      <td>1038615</td>\n",
       "      <td>2017-01-01 00:03:00</td>\n",
       "      <td>bitcoin</td>\n",
       "      <td>973.360000</td>\n",
       "      <td>6.880754</td>\n",
       "      <td>1038596</td>\n",
       "      <td>3</td>\n",
       "      <td>3</td>\n",
       "      <td>4</td>\n",
       "      <td>0.045455</td>\n",
       "      <td>0.027871</td>\n",
       "      <td>-0.868096</td>\n",
       "      <td>-2.460000</td>\n",
       "      <td>-2.517700</td>\n",
       "      <td>Sunday</td>\n",
       "    </tr>\n",
       "    <tr>\n",
       "      <th>4</th>\n",
       "      <td>4</td>\n",
       "      <td>1038616</td>\n",
       "      <td>2017-01-01 00:04:00</td>\n",
       "      <td>bitcoin</td>\n",
       "      <td>973.387871</td>\n",
       "      <td>6.880783</td>\n",
       "      <td>1038597</td>\n",
       "      <td>3</td>\n",
       "      <td>0</td>\n",
       "      <td>0</td>\n",
       "      <td>-0.116667</td>\n",
       "      <td>-0.016476</td>\n",
       "      <td>-1.937806</td>\n",
       "      <td>-2.493183</td>\n",
       "      <td>-2.811840</td>\n",
       "      <td>Sunday</td>\n",
       "    </tr>\n",
       "  </tbody>\n",
       "</table>\n",
       "</div>"
      ],
      "text/plain": [
       "   key       id            datetime currency       price  logprice    times  \\\n",
       "0    0  1038612 2017-01-01 00:00:00  bitcoin  973.363509  6.880758  1038593   \n",
       "1    1  1038613 2017-01-01 00:01:00  bitcoin  973.363509  6.880758  1038594   \n",
       "2    2  1038614 2017-01-01 00:02:00  bitcoin  973.363509  6.880758  1038595   \n",
       "3    3  1038615 2017-01-01 00:03:00  bitcoin  973.360000  6.880754  1038596   \n",
       "4    4  1038616 2017-01-01 00:04:00  bitcoin  973.387871  6.880783  1038597   \n",
       "\n",
       "   count  favorites  retweets  avg_sentiment  price_change_1  price_change_5  \\\n",
       "0     19          9        11       0.050175        0.000000        0.007885   \n",
       "1      3          1         0       0.045455        0.000000        0.020667   \n",
       "2      5          1         0       0.140000       -0.003509        0.018513   \n",
       "3      3          3         4       0.045455        0.027871       -0.868096   \n",
       "4      3          0         0      -0.116667       -0.016476       -1.937806   \n",
       "\n",
       "   price_change_30  price_change_60 day_of_week  \n",
       "0        -2.476834        -2.002977      Sunday  \n",
       "1        -2.476834        -1.761025      Sunday  \n",
       "2        -2.463509        -1.761025      Sunday  \n",
       "3        -2.460000        -2.517700      Sunday  \n",
       "4        -2.493183        -2.811840      Sunday  "
      ]
     },
     "execution_count": 61,
     "metadata": {},
     "output_type": "execute_result"
    }
   ],
   "source": [
    "sentiment.head()"
   ]
  },
  {
   "cell_type": "markdown",
   "metadata": {},
   "source": [
    "Below, I will try running a binary logistic regression just using the twitter variables and day of the week.  We will see if the binary logistic regression gives a good estimation of the probability of increasing price after one minute.  Then look deeper into the lags, possibly developing thoughts about the correct trading time after purchasing."
   ]
  },
  {
   "cell_type": "code",
   "execution_count": 101,
   "metadata": {},
   "outputs": [
    {
     "data": {
      "text/plain": [
       "LogisticRegression(C=1.0, class_weight=None, dual=False, fit_intercept=True,\n",
       "          intercept_scaling=1, max_iter=100, multi_class='ovr', n_jobs=1,\n",
       "          penalty='l2', random_state=None, solver='liblinear', tol=0.0001,\n",
       "          verbose=0, warm_start=False)"
      ]
     },
     "execution_count": 101,
     "metadata": {},
     "output_type": "execute_result"
    }
   ],
   "source": [
    "# split data into testing and training\n",
    "x_vars = ['count','favorites','retweets','avg_sentiment',\n",
    "          'Sunday','Monday','Tuesday','Wednesday','Thursday','Friday','Saturday','Sunday']\n",
    "\n",
    "sentiment = sentiment.sample(frac = 1)\n",
    "n = int(0.75 * len(sentiment))\n",
    "train = sentiment[:n]\n",
    "test = sentiment[n:]\n",
    "x_train = train[x_vars]\n",
    "x_test = test[x_vars]\n",
    "y_train = train['price_change_1'] > 0\n",
    "y_test = test['price_change_1'] > 0\n",
    "\n",
    "\n",
    "from sklearn import linear_model\n",
    "lm = linear_model.LogisticRegression()\n",
    "lm.fit(x_train, y_train)\n"
   ]
  },
  {
   "cell_type": "code",
   "execution_count": 102,
   "metadata": {},
   "outputs": [
    {
     "data": {
      "text/plain": [
       "0.51472342075919908"
      ]
     },
     "execution_count": 102,
     "metadata": {},
     "output_type": "execute_result"
    }
   ],
   "source": [
    "## output the accuracy of the model\n",
    "lm.score(x_test,y_test)"
   ]
  },
  {
   "cell_type": "markdown",
   "metadata": {},
   "source": [
    "From this test, we see that the testing accuracy is extremely low.  Although this is our first model, a little discouraging.  We got not much better than 50% accuracy on whether or not the price even increased.  More investigation could be done along with feature engineering, such as more lag variables or a better way to combine the data."
   ]
  },
  {
   "cell_type": "markdown",
   "metadata": {},
   "source": [
    "This may just be a bad predictor when we look at the minute directly superceding a certain point in time.  What is we looked ahead at the same intervals as above and tested the accuracy?  The following code and plot of accuracy is displayed below."
   ]
  },
  {
   "cell_type": "code",
   "execution_count": 112,
   "metadata": {},
   "outputs": [],
   "source": [
    "accuracies = []\n",
    "for i in range(1,1440*5,100):\n",
    "    dummy_df = sentiment\n",
    "    dummy_df['price_change_future'] = dummy_df['price'].shift(-1) - dummy_df['price']\n",
    "    x_vars = ['count','favorites','retweets','avg_sentiment',\n",
    "          'Sunday','Monday','Tuesday','Wednesday','Thursday','Friday','Saturday','Sunday']\n",
    "\n",
    "    dummy_df = dummy_df.sample(frac = 1)\n",
    "    n = int(0.75 * len(dummy_df))\n",
    "    train = dummy_df[:n]\n",
    "    test = dummy_df[n:]\n",
    "    x_train = train[x_vars]\n",
    "    x_test = test[x_vars]\n",
    "    y_train = train['price_change_future'] > 0\n",
    "    y_test = test['price_change_future'] > 0\n",
    "    lm.fit(x_train,y_train)\n",
    "    accuracies.append(lm.score(x_test,y_test))"
   ]
  },
  {
   "cell_type": "code",
   "execution_count": 113,
   "metadata": {},
   "outputs": [
    {
     "data": {
      "text/plain": [
       "([<matplotlib.axis.XTick at 0x1c7eb0ddda0>,\n",
       "  <matplotlib.axis.XTick at 0x1c7eb1cd7f0>,\n",
       "  <matplotlib.axis.XTick at 0x1c7eb1e9dd8>,\n",
       "  <matplotlib.axis.XTick at 0x1c7eb03bbe0>,\n",
       "  <matplotlib.axis.XTick at 0x1c7eb8ed048>,\n",
       "  <matplotlib.axis.XTick at 0x1c7eb8f5f60>],\n",
       " <a list of 6 Text xticklabel objects>)"
      ]
     },
     "execution_count": 113,
     "metadata": {},
     "output_type": "execute_result"
    },
    {
     "data": {
      "image/png": "[encoded data removed]",
      "text/plain": [
       "<matplotlib.figure.Figure at 0x1c7d575ef60>"
      ]
     },
     "metadata": {},
     "output_type": "display_data"
    }
   ],
   "source": [
    "plt.plot(accuracies)\n",
    "plt.title('Accuracy of Predicting Positive Price Change\\nBy Time in the Future')\n",
    "plt.xlabel('Time in Future to \"Sell\"')\n",
    "plt.ylabel('Accuracy')\n",
    "plt.xticks([1,15,29,43,58,72],['1 min','1 day','2 days','3 days','4 days','5 days'],\n",
    "           rotation = 45)"
   ]
  },
  {
   "cell_type": "markdown",
   "metadata": {},
   "source": [
    "Here we can see that there is no real good time in the future that a single minute's twitter data can predict.  The accuracy hovers between 51% and 52% accuracy, not really much better than flipping a coin, which is awful for binary data.  \n",
    "\n",
    "Some future improvements that I will be implementing will be to aggregate the number of tweets until the future time to be selling.  The current method to use just the current minute to predict some time period in the future seems very unstable, and is showing to be.  Thus, we can see a trend of many tweets in a given time period to see whether or not it is associated with the price changes in bitcoin."
   ]
  },
  {
   "cell_type": "markdown",
   "metadata": {},
   "source": [
    "Another improvement to be made is the sentiment analysis.  Currently I only have the average sentiment over that minute, but the minimum and maximum and standard deviation could be of use to use.  This will take some time to get though since it will need more work on the server and recollection of all of the sentiment, thus, it will come in a later report."
   ]
  },
  {
   "cell_type": "markdown",
   "metadata": {},
   "source": []
  }
 ],
 "metadata": {
  "kernelspec": {
   "display_name": "Python 3",
   "language": "python",
   "name": "python3"
  },
  "language_info": {
   "codemirror_mode": {
    "name": "ipython",
    "version": 3
   },
   "file_extension": ".py",
   "mimetype": "text/x-python",
   "name": "python",
   "nbconvert_exporter": "python",
   "pygments_lexer": "ipython3",
   "version": "3.6.3"
  }
 },
 "nbformat": 4,
 "nbformat_minor": 2
}
