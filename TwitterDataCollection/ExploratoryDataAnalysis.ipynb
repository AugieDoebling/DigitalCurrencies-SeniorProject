{
 "cells": [
  {
   "cell_type": "markdown",
   "metadata": {},
   "source": [
    "# EXPLORATORY DATA ANALYSIS\n",
    "### Hans Schumann and Augie Doebling\n",
    "### 2.May 2018\n",
    "\n",
    "Looking at bitcoin prices using twitter meta-data"
   ]
  },
  {
   "cell_type": "code",
   "execution_count": 3,
   "metadata": {
    "collapsed": true
   },
   "outputs": [],
   "source": [
    "\"\"\"\n",
    "This file will take data from the SQL database and perform exploratory analysis for model building\n",
    "\"\"\"\n",
    "\n",
    "## import all packages / other files needed\n",
    "import pymysql\n",
    "import numpy as np\n",
    "import pandas as pd\n",
    "import helpers\n",
    "import matplotlib.pyplot as plt\n",
    "%matplotlib inline"
   ]
  },
  {
   "cell_type": "markdown",
   "metadata": {
    "collapsed": true
   },
   "source": [
    "### Connecting to the database and creating a dataframe for the tweet and price data"
   ]
  },
  {
   "cell_type": "code",
   "execution_count": 4,
   "metadata": {
    "collapsed": true
   },
   "outputs": [],
   "source": [
    "## create credentials\n",
    "DB_USERNAME = \"\"\n",
    "DB_PASSWORD = \"\"\n",
    "with open(\"creds.txt\", \"r\") as creds:\n",
    "    DB_USERNAME = creds.readline()[:-1]\n",
    "    DB_PASSWORD = creds.readline()[:-1]\n",
    "\n",
    "connection = pymysql.connect(host='seniorproject.cxbqypcd9gwp.us-east-2.rds.amazonaws.com',\n",
    "                             user=DB_USERNAME,\n",
    "                             password=DB_PASSWORD,\n",
    "                             db='seniorproject')\n",
    "## get all the rows from the sql database\n",
    "cursor = connection.cursor()\n",
    "sentimentQuery = \"SELECT * FROM sentiment\"\n",
    "cursor.execute(sentimentQuery)\n",
    "sentimentRows = cursor.fetchall()\n",
    "## put all the rows in a dataframe\n",
    "sentiment = pd.DataFrame(list(sentimentRows),\n",
    "                         columns = ['key','id','datetime','currency','price','logprice',\n",
    "                                    'times','count','favorites','retweets','avg_sentiment'])\n",
    "\n",
    "## add day of the week variable\n",
    "sentiment['datetime'] = pd.to_datetime(sentiment['datetime'])\n",
    "sentiment['day_of_week'] = sentiment['datetime'].dt.weekday_name\n",
    "sentiment = pd.concat([sentiment,pd.get_dummies(sentiment['day_of_week'])],axis = 1)\n",
    "\n",
    "## convert necessary columns to numeric\n",
    "sentiment['price'] = pd.to_numeric(sentiment['price'])\n",
    "sentiment['logprice'] = pd.to_numeric(sentiment['logprice'])\n",
    "sentiment['times'] = pd.to_numeric(sentiment['times'])\n",
    "sentiment['count'] = pd.to_numeric(sentiment['count'])\n",
    "sentiment['favorites'] = pd.to_numeric(sentiment['favorites'])\n",
    "sentiment['retweets'] = pd.to_numeric(sentiment['retweets'])\n",
    "sentiment['avg_sentiment'] = pd.to_numeric(sentiment['avg_sentiment'])"
   ]
  },
  {
   "cell_type": "markdown",
   "metadata": {},
   "source": [
    "### Here, we will do some data cleaning"
   ]
  },
  {
   "cell_type": "code",
   "execution_count": 14,
   "metadata": {
    "collapsed": true
   },
   "outputs": [],
   "source": [
    "## calculate price change for one minute\n",
    "# sentiment.head()['price_change'] = sentiment.head()['price'] - sentiment.head()['price'].shift(-1)\n",
    "sentiment['price_change_1'] = sentiment['price'].shift(-1) - sentiment['price']\n",
    "\n",
    "## calculate price change for 5 minutes\n",
    "sentiment['price_change_5'] = sentiment['price'].shift(-5) - sentiment['price']\n",
    "\n",
    "## calculate price change for 30 minutes\n",
    "sentiment['price_change_30'] = sentiment['price'].shift(-30) - sentiment['price']\n",
    "\n",
    "## calculate price change for one hour\n",
    "sentiment['price_change_60'] = sentiment['price'].shift(-60) - sentiment['price']\n",
    "\n",
    "sentiment = sentiment.fillna(0)"
   ]
  },
  {
   "cell_type": "code",
   "execution_count": 5,
   "metadata": {},
   "outputs": [
    {
     "data": {
      "text/html": [
       "<div>\n",
       "<style>\n",
       "    .dataframe thead tr:only-child th {\n",
       "        text-align: right;\n",
       "    }\n",
       "\n",
       "    .dataframe thead th {\n",
       "        text-align: left;\n",
       "    }\n",
       "\n",
       "    .dataframe tbody tr th {\n",
       "        vertical-align: top;\n",
       "    }\n",
       "</style>\n",
       "<table border=\"1\" class=\"dataframe\">\n",
       "  <thead>\n",
       "    <tr style=\"text-align: right;\">\n",
       "      <th></th>\n",
       "      <th>key</th>\n",
       "      <th>id</th>\n",
       "      <th>datetime</th>\n",
       "      <th>currency</th>\n",
       "      <th>price</th>\n",
       "      <th>logprice</th>\n",
       "      <th>times</th>\n",
       "      <th>count</th>\n",
       "      <th>favorites</th>\n",
       "      <th>retweets</th>\n",
       "      <th>...</th>\n",
       "      <th>Monday</th>\n",
       "      <th>Saturday</th>\n",
       "      <th>Sunday</th>\n",
       "      <th>Thursday</th>\n",
       "      <th>Tuesday</th>\n",
       "      <th>Wednesday</th>\n",
       "      <th>price_change_1</th>\n",
       "      <th>price_change_5</th>\n",
       "      <th>price_change_30</th>\n",
       "      <th>price_change_60</th>\n",
       "    </tr>\n",
       "  </thead>\n",
       "  <tbody>\n",
       "    <tr>\n",
       "      <th>0</th>\n",
       "      <td>0</td>\n",
       "      <td>1038612</td>\n",
       "      <td>2017-01-01 00:00:00</td>\n",
       "      <td>bitcoin</td>\n",
       "      <td>973.363509</td>\n",
       "      <td>6.880758</td>\n",
       "      <td>1038593</td>\n",
       "      <td>19</td>\n",
       "      <td>9</td>\n",
       "      <td>11</td>\n",
       "      <td>...</td>\n",
       "      <td>0</td>\n",
       "      <td>0</td>\n",
       "      <td>1</td>\n",
       "      <td>0</td>\n",
       "      <td>0</td>\n",
       "      <td>0</td>\n",
       "      <td>0.000000</td>\n",
       "      <td>0.007885</td>\n",
       "      <td>-2.476834</td>\n",
       "      <td>-2.002977</td>\n",
       "    </tr>\n",
       "    <tr>\n",
       "      <th>1</th>\n",
       "      <td>1</td>\n",
       "      <td>1038613</td>\n",
       "      <td>2017-01-01 00:01:00</td>\n",
       "      <td>bitcoin</td>\n",
       "      <td>973.363509</td>\n",
       "      <td>6.880758</td>\n",
       "      <td>1038594</td>\n",
       "      <td>3</td>\n",
       "      <td>1</td>\n",
       "      <td>0</td>\n",
       "      <td>...</td>\n",
       "      <td>0</td>\n",
       "      <td>0</td>\n",
       "      <td>1</td>\n",
       "      <td>0</td>\n",
       "      <td>0</td>\n",
       "      <td>0</td>\n",
       "      <td>0.000000</td>\n",
       "      <td>0.020667</td>\n",
       "      <td>-2.476834</td>\n",
       "      <td>-1.761025</td>\n",
       "    </tr>\n",
       "    <tr>\n",
       "      <th>2</th>\n",
       "      <td>2</td>\n",
       "      <td>1038614</td>\n",
       "      <td>2017-01-01 00:02:00</td>\n",
       "      <td>bitcoin</td>\n",
       "      <td>973.363509</td>\n",
       "      <td>6.880758</td>\n",
       "      <td>1038595</td>\n",
       "      <td>5</td>\n",
       "      <td>1</td>\n",
       "      <td>0</td>\n",
       "      <td>...</td>\n",
       "      <td>0</td>\n",
       "      <td>0</td>\n",
       "      <td>1</td>\n",
       "      <td>0</td>\n",
       "      <td>0</td>\n",
       "      <td>0</td>\n",
       "      <td>-0.003509</td>\n",
       "      <td>0.018513</td>\n",
       "      <td>-2.463509</td>\n",
       "      <td>-1.761025</td>\n",
       "    </tr>\n",
       "    <tr>\n",
       "      <th>3</th>\n",
       "      <td>3</td>\n",
       "      <td>1038615</td>\n",
       "      <td>2017-01-01 00:03:00</td>\n",
       "      <td>bitcoin</td>\n",
       "      <td>973.360000</td>\n",
       "      <td>6.880754</td>\n",
       "      <td>1038596</td>\n",
       "      <td>3</td>\n",
       "      <td>3</td>\n",
       "      <td>4</td>\n",
       "      <td>...</td>\n",
       "      <td>0</td>\n",
       "      <td>0</td>\n",
       "      <td>1</td>\n",
       "      <td>0</td>\n",
       "      <td>0</td>\n",
       "      <td>0</td>\n",
       "      <td>0.027871</td>\n",
       "      <td>-0.868096</td>\n",
       "      <td>-2.460000</td>\n",
       "      <td>-2.517700</td>\n",
       "    </tr>\n",
       "    <tr>\n",
       "      <th>4</th>\n",
       "      <td>4</td>\n",
       "      <td>1038616</td>\n",
       "      <td>2017-01-01 00:04:00</td>\n",
       "      <td>bitcoin</td>\n",
       "      <td>973.387871</td>\n",
       "      <td>6.880783</td>\n",
       "      <td>1038597</td>\n",
       "      <td>3</td>\n",
       "      <td>0</td>\n",
       "      <td>0</td>\n",
       "      <td>...</td>\n",
       "      <td>0</td>\n",
       "      <td>0</td>\n",
       "      <td>1</td>\n",
       "      <td>0</td>\n",
       "      <td>0</td>\n",
       "      <td>0</td>\n",
       "      <td>-0.016476</td>\n",
       "      <td>-1.937806</td>\n",
       "      <td>-2.493183</td>\n",
       "      <td>-2.811840</td>\n",
       "    </tr>\n",
       "  </tbody>\n",
       "</table>\n",
       "<p>5 rows × 23 columns</p>\n",
       "</div>"
      ],
      "text/plain": [
       "   key       id            datetime currency       price  logprice    times  \\\n",
       "0    0  1038612 2017-01-01 00:00:00  bitcoin  973.363509  6.880758  1038593   \n",
       "1    1  1038613 2017-01-01 00:01:00  bitcoin  973.363509  6.880758  1038594   \n",
       "2    2  1038614 2017-01-01 00:02:00  bitcoin  973.363509  6.880758  1038595   \n",
       "3    3  1038615 2017-01-01 00:03:00  bitcoin  973.360000  6.880754  1038596   \n",
       "4    4  1038616 2017-01-01 00:04:00  bitcoin  973.387871  6.880783  1038597   \n",
       "\n",
       "   count  favorites  retweets       ...         Monday Saturday  Sunday  \\\n",
       "0     19          9        11       ...              0        0       1   \n",
       "1      3          1         0       ...              0        0       1   \n",
       "2      5          1         0       ...              0        0       1   \n",
       "3      3          3         4       ...              0        0       1   \n",
       "4      3          0         0       ...              0        0       1   \n",
       "\n",
       "   Thursday  Tuesday  Wednesday  price_change_1  price_change_5  \\\n",
       "0         0        0          0        0.000000        0.007885   \n",
       "1         0        0          0        0.000000        0.020667   \n",
       "2         0        0          0       -0.003509        0.018513   \n",
       "3         0        0          0        0.027871       -0.868096   \n",
       "4         0        0          0       -0.016476       -1.937806   \n",
       "\n",
       "   price_change_30  price_change_60  \n",
       "0        -2.476834        -2.002977  \n",
       "1        -2.476834        -1.761025  \n",
       "2        -2.463509        -1.761025  \n",
       "3        -2.460000        -2.517700  \n",
       "4        -2.493183        -2.811840  \n",
       "\n",
       "[5 rows x 23 columns]"
      ]
     },
     "execution_count": 5,
     "metadata": {},
     "output_type": "execute_result"
    }
   ],
   "source": [
    "sentiment.head()"
   ]
  },
  {
   "cell_type": "markdown",
   "metadata": {
    "collapsed": true
   },
   "source": [
    "### First, let's plot the price of bitcoin over our domain of time"
   ]
  },
  {
   "cell_type": "code",
   "execution_count": 6,
   "metadata": {},
   "outputs": [
    {
     "name": "stderr",
     "output_type": "stream",
     "text": [
      "C:\\Users\\Hans\\Anaconda3\\lib\\site-packages\\matplotlib\\cbook\\deprecation.py:106: MatplotlibDeprecationWarning: Adding an axes using the same arguments as a previous axes currently reuses the earlier instance.  In a future version, a new instance will always be created and returned.  Meanwhile, this warning can be suppressed, and the future behavior ensured, by passing a unique label to each axes instance.\n",
      "  warnings.warn(message, mplDeprecation, stacklevel=1)\n"
     ]
    },
    {
     "data": {
      "image/png": "[encoded data removed]",
      "text/plain": [
       "<matplotlib.figure.Figure at 0x2c53f2cc358>"
      ]
     },
     "metadata": {},
     "output_type": "display_data"
    }
   ],
   "source": [
    "ticks = np.array(['01Jan17','01Apr17','01Jul17','01Oct17','01Jan18'])\n",
    "\n",
    "plt.plot(sentiment['price_change_1'],color = 'green')\n",
    "plt.title('Price Change of Bitcoin over 1 Minute')\n",
    "plt.xlabel('Date')\n",
    "plt.ylabel('Change in Price ($)')\n",
    "plt.xticks(np.array([0,101930,223963,327689,408301]),ticks,rotation = 45)\n",
    "ax = plt.axes()\n",
    "ax.grid(True)"
   ]
  },
  {
   "cell_type": "code",
   "execution_count": 7,
   "metadata": {},
   "outputs": [
    {
     "name": "stderr",
     "output_type": "stream",
     "text": [
      "C:\\Users\\Hans\\Anaconda3\\lib\\site-packages\\matplotlib\\cbook\\deprecation.py:106: MatplotlibDeprecationWarning: Adding an axes using the same arguments as a previous axes currently reuses the earlier instance.  In a future version, a new instance will always be created and returned.  Meanwhile, this warning can be suppressed, and the future behavior ensured, by passing a unique label to each axes instance.\n",
      "  warnings.warn(message, mplDeprecation, stacklevel=1)\n"
     ]
    },
    {
     "data": {
      "image/png": "[encoded data removed]",
      "text/plain": [
       "<matplotlib.figure.Figure at 0x2c53f2cc0b8>"
      ]
     },
     "metadata": {},
     "output_type": "display_data"
    }
   ],
   "source": [
    "ticks = np.array(['01Jan17','01Apr17','01Jul17','01Oct17','01Jan18'])\n",
    "\n",
    "plt.plot(sentiment['price_change_60'],color = 'green')\n",
    "plt.title('Price Change of Bitcoin over 1 Hour')\n",
    "plt.xlabel('Date')\n",
    "plt.ylabel('Change in Price ($)')\n",
    "plt.xticks(np.array([0,101930,223963,327689,408301]),ticks,rotation = 45)\n",
    "ax = plt.axes()\n",
    "ax.grid(True)"
   ]
  },
  {
   "cell_type": "markdown",
   "metadata": {},
   "source": [
    "We see that the amount of variation in the price changes is very high as the time approaches the present day.  This is very interesting and is exactly what we want to tap into moving forward."
   ]
  },
  {
   "cell_type": "code",
   "execution_count": 8,
   "metadata": {},
   "outputs": [
    {
     "name": "stderr",
     "output_type": "stream",
     "text": [
      "C:\\Users\\Hans\\Anaconda3\\lib\\site-packages\\matplotlib\\cbook\\deprecation.py:106: MatplotlibDeprecationWarning: Adding an axes using the same arguments as a previous axes currently reuses the earlier instance.  In a future version, a new instance will always be created and returned.  Meanwhile, this warning can be suppressed, and the future behavior ensured, by passing a unique label to each axes instance.\n",
      "  warnings.warn(message, mplDeprecation, stacklevel=1)\n"
     ]
    },
    {
     "data": {
      "image/png": "[encoded data removed]",
      "text/plain": [
       "<matplotlib.figure.Figure at 0x2c53f544780>"
      ]
     },
     "metadata": {},
     "output_type": "display_data"
    }
   ],
   "source": [
    "ticks = np.array(['01Jan17','01Apr17','01Jul17','01Oct17','01Jan18'])\n",
    "\n",
    "plt.plot(sentiment['count'],color = '#00aced')\n",
    "plt.title('Frequency of Tweets about Bitcoin')\n",
    "plt.xlabel('Date')\n",
    "plt.ylabel('Number of Tweets by Minute')\n",
    "plt.xticks(np.array([0,101930,223963,327689,408301]),ticks,rotation = 45)\n",
    "ax = plt.axes()\n",
    "ax.grid(True)"
   ]
  },
  {
   "cell_type": "code",
   "execution_count": 11,
   "metadata": {},
   "outputs": [
    {
     "data": {
      "text/plain": [
       "(12.021845260315413, 10.282108226699261, 435)"
      ]
     },
     "execution_count": 11,
     "metadata": {},
     "output_type": "execute_result"
    }
   ],
   "source": [
    "np.mean(sentiment['count']),np.std(sentiment['count']),np.max(sentiment['count']) - np.min(sentiment['count'])"
   ]
  },
  {
   "cell_type": "code",
   "execution_count": 12,
   "metadata": {},
   "outputs": [
    {
     "data": {
      "text/plain": [
       "(3562.5831255270923, 3664.075978856437, 19148.7111525)"
      ]
     },
     "execution_count": 12,
     "metadata": {},
     "output_type": "execute_result"
    }
   ],
   "source": [
    "np.mean(sentiment['price']),np.std(sentiment['price']),np.max(sentiment['price']) - np.min(sentiment['price'])"
   ]
  },
  {
   "cell_type": "code",
   "execution_count": 16,
   "metadata": {},
   "outputs": [
    {
     "data": {
      "text/plain": [
       "(18.627653694932345, 135.5714278715581, 64053)"
      ]
     },
     "execution_count": 16,
     "metadata": {},
     "output_type": "execute_result"
    }
   ],
   "source": [
    "np.mean(sentiment['favorites']),np.std(sentiment['favorites']),np.max(sentiment['favorites']) - np.min(sentiment['favorites'])"
   ]
  },
  {
   "cell_type": "code",
   "execution_count": 17,
   "metadata": {},
   "outputs": [
    {
     "data": {
      "text/plain": [
       "(18.465494087817365, 356.47920062521285, 202337)"
      ]
     },
     "execution_count": 17,
     "metadata": {},
     "output_type": "execute_result"
    }
   ],
   "source": [
    "np.mean(sentiment['retweets']),np.std(sentiment['retweets']),np.max(sentiment['retweets']) - np.min(sentiment['retweets'])"
   ]
  },
  {
   "cell_type": "code",
   "execution_count": 18,
   "metadata": {},
   "outputs": [
    {
     "data": {
      "text/plain": [
       "(0.07530556096590413, 0.10010166138783608, 2.0)"
      ]
     },
     "execution_count": 18,
     "metadata": {},
     "output_type": "execute_result"
    }
   ],
   "source": [
    "np.mean(sentiment['avg_sentiment']),np.std(sentiment['avg_sentiment']),np.max(sentiment['avg_sentiment']) - np.min(sentiment['avg_sentiment'])"
   ]
  },
  {
   "cell_type": "code",
   "execution_count": 15,
   "metadata": {},
   "outputs": [
    {
     "data": {
      "text/plain": [
       "(0.03684716560542301, 12.795694866176753, 3773.1306679999998)"
      ]
     },
     "execution_count": 15,
     "metadata": {},
     "output_type": "execute_result"
    }
   ],
   "source": [
    "np.mean(sentiment['price_change_1']),np.std(sentiment['price_change_1']),np.max(sentiment['price_change_1']) - np.min(sentiment['price_change_1'])"
   ]
  },
  {
   "cell_type": "markdown",
   "metadata": {},
   "source": [
    "In the plot above, we can see that there are generally not an overwhelming number of tweets.  Most of the time, the values are below 100 tweets per minute. A couple spikes are seen at various times, with the most extreme reaching over 400 tweets about bitcoin in a minute. \n",
    "\n",
    "Second though, the trend seems to be generally upward.  This is suggestive from a quick glance that the number of tweets could be predictive of the change in prices.  As more tweets appeared, we begin to see more variability in the change in price from minute to minute."
   ]
  },
  {
   "cell_type": "markdown",
   "metadata": {
    "collapsed": true
   },
   "source": [
    "### NOTES:\n",
    "There are a couple issues in the data.  Due to pulling issues from the twitter database, we have gaps in the data.  Sometimes, twitter did not allow us to grab specific days.  This therefore leads us to have a lag that is not for one minute prior, but instead a gap in time.  I am not completely sure how to deal with this issue.  It is common, but we also have most of the data in perfect succession by minute."
   ]
  },
  {
   "cell_type": "code",
   "execution_count": 9,
   "metadata": {},
   "outputs": [
    {
     "data": {
      "text/plain": [
       "day_of_week\n",
       "Friday       0.045695\n",
       "Monday       0.114656\n",
       "Saturday     0.001735\n",
       "Sunday       0.020017\n",
       "Thursday     0.071329\n",
       "Tuesday      0.013826\n",
       "Wednesday   -0.006644\n",
       "Name: price_change_1, dtype: float64"
      ]
     },
     "execution_count": 9,
     "metadata": {},
     "output_type": "execute_result"
    }
   ],
   "source": [
    "## price change by day of the week\n",
    "dow_mean = sentiment.groupby('day_of_week').agg('mean')['price_change_1']\n",
    "dow_mean"
   ]
  },
  {
   "cell_type": "markdown",
   "metadata": {},
   "source": [
    "Here, we can see a possibility that day will be an important factor for our price change analysis.  With this, we can see that Monday had the highest average change in price from minute to minute.  This may be from a delay in weekend trading, or some other factor.  Whatever it is, we will attempt to capitalize on this.\n",
    "\n",
    "I may use a different program (minitab, etc) to make a nice barplot to show this data.  Could be good in the presentation."
   ]
  },
  {
   "cell_type": "code",
   "execution_count": 10,
   "metadata": {},
   "outputs": [
    {
     "data": {
      "text/plain": [
       "day_of_week\n",
       "Friday       15.340920\n",
       "Monday       10.501752\n",
       "Saturday     10.144929\n",
       "Sunday       11.011301\n",
       "Thursday     18.152655\n",
       "Tuesday      10.362197\n",
       "Wednesday    11.889806\n",
       "Name: price_change_1, dtype: float64"
      ]
     },
     "execution_count": 10,
     "metadata": {},
     "output_type": "execute_result"
    }
   ],
   "source": [
    "dow_std = sentiment.groupby('day_of_week').agg('std')['price_change_1']\n",
    "dow_std"
   ]
  },
  {
   "cell_type": "markdown",
   "metadata": {},
   "source": [
    "Looking at the amount of fluctation, we could see the days with the highest standard deviation in the price change minute by minute are Thursday and Friday.  So once again, there could be importance in day of the week, and we will try to discover this in our future analyses."
   ]
  },
  {
   "cell_type": "markdown",
   "metadata": {},
   "source": [
    "### Quantitative Analysis"
   ]
  },
  {
   "cell_type": "markdown",
   "metadata": {},
   "source": [
    "I decided to look at the autocorrelations up to 5 days in advance.  Some results are outputted below"
   ]
  },
  {
   "cell_type": "code",
   "execution_count": 111,
   "metadata": {},
   "outputs": [
    {
     "data": {
      "text/plain": [
       "([<matplotlib.axis.XTick at 0x1c7e9708048>,\n",
       "  <matplotlib.axis.XTick at 0x1c7e9727ef0>,\n",
       "  <matplotlib.axis.XTick at 0x1c7e9680c88>,\n",
       "  <matplotlib.axis.XTick at 0x1c7e9836470>,\n",
       "  <matplotlib.axis.XTick at 0x1c7e985d908>,\n",
       "  <matplotlib.axis.XTick at 0x1c7e988e320>],\n",
       " <a list of 6 Text xticklabel objects>)"
      ]
     },
     "execution_count": 111,
     "metadata": {},
     "output_type": "execute_result"
    },
    {
     "data": {
      "image/png": "[encoded data removed]",
      "text/plain": [
       "<matplotlib.figure.Figure at 0x1c7d575e400>"
      ]
     },
     "metadata": {},
     "output_type": "display_data"
    }
   ],
   "source": [
    "autocorrs = []\n",
    "for i in range(1,1440*5,100):\n",
    "    a = sentiment['price_change_1'].autocorr(i)\n",
    "    autocorrs.append(a)\n",
    "\n",
    "plt.plot(autocorrs)\n",
    "plt.title('Autocorrelation of Price Changes for Various Times in the Future')\n",
    "plt.xlabel('Lag')\n",
    "plt.ylabel('Autocorrelation')\n",
    "plt.xticks([1,15,29,43,58,72],['1 min','1 day','2 days','3 days','4 days','5 days'],\n",
    "           rotation = 45)"
   ]
  },
  {
   "cell_type": "markdown",
   "metadata": {},
   "source": [
    "From the plot above, we can see that the autocorrelation tends to be around zero.  For any lags greater than a couple hours.  Also, we never really see an autocorrelation above a magnitude of 0.20.  This could be good for a linear model because we could assume indpendence of the price changes over time, roughly.  The goal though, will be to explain these changes with twitter data as well soon."
   ]
  },
  {
   "cell_type": "code",
   "execution_count": 61,
   "metadata": {},
   "outputs": [
    {
     "data": {
      "text/html": [
       "<div>\n",
       "<style>\n",
       "    .dataframe thead tr:only-child th {\n",
       "        text-align: right;\n",
       "    }\n",
       "\n",
       "    .dataframe thead th {\n",
       "        text-align: left;\n",
       "    }\n",
       "\n",
       "    .dataframe tbody tr th {\n",
       "        vertical-align: top;\n",
       "    }\n",
       "</style>\n",
       "<table border=\"1\" class=\"dataframe\">\n",
       "  <thead>\n",
       "    <tr style=\"text-align: right;\">\n",
       "      <th></th>\n",
       "      <th>key</th>\n",
       "      <th>id</th>\n",
       "      <th>datetime</th>\n",
       "      <th>currency</th>\n",
       "      <th>price</th>\n",
       "      <th>logprice</th>\n",
       "      <th>times</th>\n",
       "      <th>count</th>\n",
       "      <th>favorites</th>\n",
       "      <th>retweets</th>\n",
       "      <th>avg_sentiment</th>\n",
       "      <th>price_change_1</th>\n",
       "      <th>price_change_5</th>\n",
       "      <th>price_change_30</th>\n",
       "      <th>price_change_60</th>\n",
       "      <th>day_of_week</th>\n",
       "    </tr>\n",
       "  </thead>\n",
       "  <tbody>\n",
       "    <tr>\n",
       "      <th>0</th>\n",
       "      <td>0</td>\n",
       "      <td>1038612</td>\n",
       "      <td>2017-01-01 00:00:00</td>\n",
       "      <td>bitcoin</td>\n",
       "      <td>973.363509</td>\n",
       "      <td>6.880758</td>\n",
       "      <td>1038593</td>\n",
       "      <td>19</td>\n",
       "      <td>9</td>\n",
       "      <td>11</td>\n",
       "      <td>0.050175</td>\n",
       "      <td>0.000000</td>\n",
       "      <td>0.007885</td>\n",
       "      <td>-2.476834</td>\n",
       "      <td>-2.002977</td>\n",
       "      <td>Sunday</td>\n",
       "    </tr>\n",
       "    <tr>\n",
       "      <th>1</th>\n",
       "      <td>1</td>\n",
       "      <td>1038613</td>\n",
       "      <td>2017-01-01 00:01:00</td>\n",
       "      <td>bitcoin</td>\n",
       "      <td>973.363509</td>\n",
       "      <td>6.880758</td>\n",
       "      <td>1038594</td>\n",
       "      <td>3</td>\n",
       "      <td>1</td>\n",
       "      <td>0</td>\n",
       "      <td>0.045455</td>\n",
       "      <td>0.000000</td>\n",
       "      <td>0.020667</td>\n",
       "      <td>-2.476834</td>\n",
       "      <td>-1.761025</td>\n",
       "      <td>Sunday</td>\n",
       "    </tr>\n",
       "    <tr>\n",
       "      <th>2</th>\n",
       "      <td>2</td>\n",
       "      <td>1038614</td>\n",
       "      <td>2017-01-01 00:02:00</td>\n",
       "      <td>bitcoin</td>\n",
       "      <td>973.363509</td>\n",
       "      <td>6.880758</td>\n",
       "      <td>1038595</td>\n",
       "      <td>5</td>\n",
       "      <td>1</td>\n",
       "      <td>0</td>\n",
       "      <td>0.140000</td>\n",
       "      <td>-0.003509</td>\n",
       "      <td>0.018513</td>\n",
       "      <td>-2.463509</td>\n",
       "      <td>-1.761025</td>\n",
       "      <td>Sunday</td>\n",
       "    </tr>\n",
       "    <tr>\n",
       "      <th>3</th>\n",
       "      <td>3</td>\n",
       "      <td>1038615</td>\n",
       "      <td>2017-01-01 00:03:00</td>\n",
       "      <td>bitcoin</td>\n",
       "      <td>973.360000</td>\n",
       "      <td>6.880754</td>\n",
       "      <td>1038596</td>\n",
       "      <td>3</td>\n",
       "      <td>3</td>\n",
       "      <td>4</td>\n",
       "      <td>0.045455</td>\n",
       "      <td>0.027871</td>\n",
       "      <td>-0.868096</td>\n",
       "      <td>-2.460000</td>\n",
       "      <td>-2.517700</td>\n",
       "      <td>Sunday</td>\n",
       "    </tr>\n",
       "    <tr>\n",
       "      <th>4</th>\n",
       "      <td>4</td>\n",
       "      <td>1038616</td>\n",
       "      <td>2017-01-01 00:04:00</td>\n",
       "      <td>bitcoin</td>\n",
       "      <td>973.387871</td>\n",
       "      <td>6.880783</td>\n",
       "      <td>1038597</td>\n",
       "      <td>3</td>\n",
       "      <td>0</td>\n",
       "      <td>0</td>\n",
       "      <td>-0.116667</td>\n",
       "      <td>-0.016476</td>\n",
       "      <td>-1.937806</td>\n",
       "      <td>-2.493183</td>\n",
       "      <td>-2.811840</td>\n",
       "      <td>Sunday</td>\n",
       "    </tr>\n",
       "  </tbody>\n",
       "</table>\n",
       "</div>"
      ],
      "text/plain": [
       "   key       id            datetime currency       price  logprice    times  \\\n",
       "0    0  1038612 2017-01-01 00:00:00  bitcoin  973.363509  6.880758  1038593   \n",
       "1    1  1038613 2017-01-01 00:01:00  bitcoin  973.363509  6.880758  1038594   \n",
       "2    2  1038614 2017-01-01 00:02:00  bitcoin  973.363509  6.880758  1038595   \n",
       "3    3  1038615 2017-01-01 00:03:00  bitcoin  973.360000  6.880754  1038596   \n",
       "4    4  1038616 2017-01-01 00:04:00  bitcoin  973.387871  6.880783  1038597   \n",
       "\n",
       "   count  favorites  retweets  avg_sentiment  price_change_1  price_change_5  \\\n",
       "0     19          9        11       0.050175        0.000000        0.007885   \n",
       "1      3          1         0       0.045455        0.000000        0.020667   \n",
       "2      5          1         0       0.140000       -0.003509        0.018513   \n",
       "3      3          3         4       0.045455        0.027871       -0.868096   \n",
       "4      3          0         0      -0.116667       -0.016476       -1.937806   \n",
       "\n",
       "   price_change_30  price_change_60 day_of_week  \n",
       "0        -2.476834        -2.002977      Sunday  \n",
       "1        -2.476834        -1.761025      Sunday  \n",
       "2        -2.463509        -1.761025      Sunday  \n",
       "3        -2.460000        -2.517700      Sunday  \n",
       "4        -2.493183        -2.811840      Sunday  "
      ]
     },
     "execution_count": 61,
     "metadata": {},
     "output_type": "execute_result"
    }
   ],
   "source": [
    "sentiment.head()"
   ]
  },
  {
   "cell_type": "markdown",
   "metadata": {},
   "source": [
    "Below, I will try running a binary logistic regression just using the twitter variables and day of the week.  We will see if the binary logistic regression gives a good estimation of the probability of increasing price after one minute.  Then look deeper into the lags, possibly developing thoughts about the correct trading time after purchasing."
   ]
  },
  {
   "cell_type": "code",
   "execution_count": 101,
   "metadata": {},
   "outputs": [
    {
     "data": {
      "text/plain": [
       "LogisticRegression(C=1.0, class_weight=None, dual=False, fit_intercept=True,\n",
       "          intercept_scaling=1, max_iter=100, multi_class='ovr', n_jobs=1,\n",
       "          penalty='l2', random_state=None, solver='liblinear', tol=0.0001,\n",
       "          verbose=0, warm_start=False)"
      ]
     },
     "execution_count": 101,
     "metadata": {},
     "output_type": "execute_result"
    }
   ],
   "source": [
    "# split data into testing and training\n",
    "x_vars = ['count','favorites','retweets','avg_sentiment',\n",
    "          'Sunday','Monday','Tuesday','Wednesday','Thursday','Friday','Saturday','Sunday']\n",
    "\n",
    "sentiment = sentiment.sample(frac = 1)\n",
    "n = int(0.75 * len(sentiment))\n",
    "train = sentiment[:n]\n",
    "test = sentiment[n:]\n",
    "x_train = train[x_vars]\n",
    "x_test = test[x_vars]\n",
    "y_train = train['price_change_1'] > 0\n",
    "y_test = test['price_change_1'] > 0\n",
    "\n",
    "\n",
    "from sklearn import linear_model\n",
    "lm = linear_model.LogisticRegression()\n",
    "lm.fit(x_train, y_train)\n"
   ]
  },
  {
   "cell_type": "code",
   "execution_count": 102,
   "metadata": {},
   "outputs": [
    {
     "data": {
      "text/plain": [
       "0.51472342075919908"
      ]
     },
     "execution_count": 102,
     "metadata": {},
     "output_type": "execute_result"
    }
   ],
   "source": [
    "## output the accuracy of the model\n",
    "lm.score(x_test,y_test)"
   ]
  },
  {
   "cell_type": "markdown",
   "metadata": {},
   "source": [
    "From this test, we see that the testing accuracy is extremely low.  Although this is our first model, a little discouraging.  We got not much better than 50% accuracy on whether or not the price even increased.  More investigation could be done along with feature engineering, such as more lag variables or a better way to combine the data."
   ]
  },
  {
   "cell_type": "markdown",
   "metadata": {},
   "source": [
    "This may just be a bad predictor when we look at the minute directly superceding a certain point in time.  What is we looked ahead at the same intervals as above and tested the accuracy?  The following code and plot of accuracy is displayed below."
   ]
  },
  {
   "cell_type": "code",
   "execution_count": 112,
   "metadata": {
    "collapsed": true
   },
   "outputs": [],
   "source": [
    "accuracies = []\n",
    "for i in range(1,1440*5,100):\n",
    "    dummy_df = sentiment\n",
    "    dummy_df['price_change_future'] = dummy_df['price'].shift(-1) - dummy_df['price']\n",
    "    x_vars = ['count','favorites','retweets','avg_sentiment',\n",
    "          'Sunday','Monday','Tuesday','Wednesday','Thursday','Friday','Saturday','Sunday']\n",
    "\n",
    "    dummy_df = dummy_df.sample(frac = 1)\n",
    "    n = int(0.75 * len(dummy_df))\n",
    "    train = dummy_df[:n]\n",
    "    test = dummy_df[n:]\n",
    "    x_train = train[x_vars]\n",
    "    x_test = test[x_vars]\n",
    "    y_train = train['price_change_future'] > 0\n",
    "    y_test = test['price_change_future'] > 0\n",
    "    lm.fit(x_train,y_train)\n",
    "    accuracies.append(lm.score(x_test,y_test))"
   ]
  },
  {
   "cell_type": "code",
   "execution_count": 113,
   "metadata": {},
   "outputs": [
    {
     "data": {
      "text/plain": [
       "([<matplotlib.axis.XTick at 0x1c7eb0ddda0>,\n",
       "  <matplotlib.axis.XTick at 0x1c7eb1cd7f0>,\n",
       "  <matplotlib.axis.XTick at 0x1c7eb1e9dd8>,\n",
       "  <matplotlib.axis.XTick at 0x1c7eb03bbe0>,\n",
       "  <matplotlib.axis.XTick at 0x1c7eb8ed048>,\n",
       "  <matplotlib.axis.XTick at 0x1c7eb8f5f60>],\n",
       " <a list of 6 Text xticklabel objects>)"
      ]
     },
     "execution_count": 113,
     "metadata": {},
     "output_type": "execute_result"
    },
    {
     "data": {
      "image/png": "[encoded data removed]",
      "text/plain": [
       "<matplotlib.figure.Figure at 0x1c7d575ef60>"
      ]
     },
     "metadata": {},
     "output_type": "display_data"
    }
   ],
   "source": [
    "plt.plot(accuracies)\n",
    "plt.title('Accuracy of Predicting Positive Price Change\\nBy Time in the Future')\n",
    "plt.xlabel('Time in Future to \"Sell\"')\n",
    "plt.ylabel('Accuracy')\n",
    "plt.xticks([1,15,29,43,58,72],['1 min','1 day','2 days','3 days','4 days','5 days'],\n",
    "           rotation = 45)"
   ]
  },
  {
   "cell_type": "markdown",
   "metadata": {},
   "source": [
    "Here we can see that there is no real good time in the future that a single minute's twitter data can predict.  The accuracy hovers between 51% and 52% accuracy, not really much better than flipping a coin, which is awful for binary data.  \n",
    "\n",
    "Some future improvements that I will be implementing will be to aggregate the number of tweets until the future time to be selling.  The current method to use just the current minute to predict some time period in the future seems very unstable, and is showing to be.  Thus, we can see a trend of many tweets in a given time period to see whether or not it is associated with the price changes in bitcoin."
   ]
  },
  {
   "cell_type": "markdown",
   "metadata": {},
   "source": [
    "Another improvement to be made is the sentiment analysis.  Currently I only have the average sentiment over that minute, but the minimum and maximum and standard deviation could be of use to use.  This will take some time to get though since it will need more work on the server and recollection of all of the sentiment, thus, it will come in a later report."
   ]
  },
  {
   "cell_type": "markdown",
   "metadata": {},
   "source": [
    "## Implementing Lags"
   ]
  },
  {
   "cell_type": "code",
   "execution_count": null,
   "metadata": {
    "collapsed": true
   },
   "outputs": [],
   "source": []
  },
  {
   "cell_type": "markdown",
   "metadata": {},
   "source": [
    "## More exploring with the binary logistic model"
   ]
  },
  {
   "cell_type": "code",
   "execution_count": null,
   "metadata": {
    "collapsed": true
   },
   "outputs": [],
   "source": [
    "## combine the number of tweets up to the desired time ahead\n",
    "# accuracies = []\n",
    "# for i in range(1,1440*5,100):\n",
    "#     dummy_df = sentiment\n",
    "#     dummy_df['price_change_future'] = dummy_df['price'].shift(-1) - dummy_df['price']\n",
    "#     x_vars = ['count','favorites','retweets','avg_sentiment',\n",
    "#           'Sunday','Monday','Tuesday','Wednesday','Thursday','Friday','Saturday','Sunday']\n",
    "\n",
    "#     dummy_df = dummy_df.sample(frac = 1)\n",
    "#     n = int(0.75 * len(dummy_df))\n",
    "#     train = dummy_df[:n]\n",
    "#     test = dummy_df[n:]\n",
    "#     x_train = train[x_vars]\n",
    "#     x_test = test[x_vars]\n",
    "#     y_train = train['price_change_future'] > 0\n",
    "#     y_test = test['price_change_future'] > 0\n",
    "#     lm.fit(x_train,y_train)\n",
    "#     accuracies.append(lm.score(x_test,y_test))"
   ]
  },
  {
   "cell_type": "code",
   "execution_count": 26,
   "metadata": {},
   "outputs": [
    {
     "data": {
      "text/plain": [
       "LogisticRegressionCV(Cs=10, class_weight=None, cv=None, dual=False,\n",
       "           fit_intercept=True, intercept_scaling=1.0, max_iter=100,\n",
       "           multi_class='ovr', n_jobs=1, penalty='l2', random_state=None,\n",
       "           refit=True, scoring=None, solver='lbfgs', tol=0.0001, verbose=0)"
      ]
     },
     "execution_count": 26,
     "metadata": {},
     "output_type": "execute_result"
    }
   ],
   "source": [
    "## using cross validation to make use of all of our data (with not much risk to time)\n",
    "\n",
    "from sklearn import linear_model\n",
    "lm = linear_model.LogisticRegressionCV()\n",
    "\n",
    "dummy_df = sentiment\n",
    "dummy_df['price_change_future'] = (dummy_df['price'].shift(-3600) - dummy_df['price']).fillna(method = 'ffill')\n",
    "dummy_df['sum_count'] = sentiment['count'].rolling(3599).sum().shift(-3598).fillna(method = 'ffill')\n",
    "dummy_df['sum_favorites'] = sentiment['favorites'].rolling(3599).sum().shift(-3598).fillna(method = 'ffill')\n",
    "dummy_df['sum_retweets'] = sentiment['retweets'].rolling(3599).sum().shift(-3598).fillna(method = 'ffill')\n",
    "dummy_df['sum_avg_sentiment'] = sentiment['avg_sentiment'].rolling(3599).sum().shift(-3598).fillna(method = 'ffill')\n",
    "\n",
    "x_vars = ['count','favorites','retweets','avg_sentiment',\n",
    "          'sum_count','sum_favorites','sum_retweets','sum_avg_sentiment',\n",
    "          'Sunday','Monday','Tuesday','Wednesday','Thursday','Friday','Saturday','Sunday']\n",
    "\n",
    "dummy_df = dummy_df.sample(frac = 1)\n",
    "lm.fit(dummy_df[x_vars],dummy_df['price_change_future'] > 0)\n",
    "\n",
    "# accuracies.append(lm.score(x_test,y_test))"
   ]
  },
  {
   "cell_type": "code",
   "execution_count": 36,
   "metadata": {
    "collapsed": true
   },
   "outputs": [],
   "source": [
    "dummy_df['price_change_future'] = (dummy_df['price'].shift(-3600) - dummy_df['price']).fillna(method = 'ffill')"
   ]
  },
  {
   "cell_type": "code",
   "execution_count": 27,
   "metadata": {},
   "outputs": [
    {
     "data": {
      "text/plain": [
       "0.65191327829193912"
      ]
     },
     "execution_count": 27,
     "metadata": {},
     "output_type": "execute_result"
    }
   ],
   "source": [
    "lm.score(dummy_df[x_vars],dummy_df['price_change_future'] > 0)"
   ]
  },
  {
   "cell_type": "code",
   "execution_count": 28,
   "metadata": {},
   "outputs": [
    {
     "data": {
      "text/plain": [
       "0.64985286203937576"
      ]
     },
     "execution_count": 28,
     "metadata": {},
     "output_type": "execute_result"
    }
   ],
   "source": [
    "np.mean(dummy_df['price_change_future'] > 0)"
   ]
  },
  {
   "cell_type": "code",
   "execution_count": 29,
   "metadata": {},
   "outputs": [
    {
     "data": {
      "text/plain": [
       "0.9855770862320562"
      ]
     },
     "execution_count": 29,
     "metadata": {},
     "output_type": "execute_result"
    }
   ],
   "source": [
    "np.mean(lm.predict(dummy_df[x_vars]))"
   ]
  },
  {
   "cell_type": "code",
   "execution_count": 30,
   "metadata": {},
   "outputs": [
    {
     "data": {
      "text/plain": [
       "(array([   1621.,    2311.,   12523.,   42113.,  226623.,  103326.,\n",
       "          17259.,    1801.,    1362.,    3599.]),\n",
       " array([ 0.35904325,  0.42236085,  0.48567845,  0.54899605,  0.61231365,\n",
       "         0.67563125,  0.73894885,  0.80226645,  0.86558405,  0.92890165,\n",
       "         0.99221925]),\n",
       " <a list of 10 Patch objects>)"
      ]
     },
     "execution_count": 30,
     "metadata": {},
     "output_type": "execute_result"
    },
    {
     "data": {
      "image/png": "[encoded data removed]",
      "text/plain": [
       "<matplotlib.figure.Figure at 0x2c544ad5630>"
      ]
     },
     "metadata": {},
     "output_type": "display_data"
    }
   ],
   "source": [
    "plt.hist(lm.predict_proba(dummy_df[x_vars])[:,1])"
   ]
  },
  {
   "cell_type": "code",
   "execution_count": 17,
   "metadata": {},
   "outputs": [
    {
     "data": {
      "text/plain": [
       "array([[  3395, 141054],\n",
       "       [  2545, 265544]], dtype=int64)"
      ]
     },
     "execution_count": 17,
     "metadata": {},
     "output_type": "execute_result"
    }
   ],
   "source": [
    "## confusion matrix for the price increase predictions\n",
    "from sklearn.metrics import confusion_matrix\n",
    "y_true = dummy_df['price_change_future'] > 0\n",
    "y_pred = lm.predict(dummy_df[x_vars])\n",
    "\n",
    "confusion_matrix(y_true,y_pred)"
   ]
  },
  {
   "cell_type": "code",
   "execution_count": 53,
   "metadata": {
    "collapsed": true
   },
   "outputs": [],
   "source": [
    "## test the amount of money made for the different levels of riskiness for trading\n",
    "\n",
    "\n"
   ]
  },
  {
   "cell_type": "markdown",
   "metadata": {},
   "source": [
    "## Exploration with a different machine learning model"
   ]
  },
  {
   "cell_type": "markdown",
   "metadata": {},
   "source": [
    "### LassoCV regression (not sure if this is using the binary nature though)"
   ]
  },
  {
   "cell_type": "code",
   "execution_count": null,
   "metadata": {
    "collapsed": true
   },
   "outputs": [],
   "source": [
    "from sklearn.linear_model import LassoCV\n",
    "\n",
    "lasso = LassoCV()\n",
    "dummy_df = dummy_df.sample(frac = 1)\n",
    "lasso.fit(dummy_df[x_vars],dummy_df['price_change_future'] > 0)"
   ]
  },
  {
   "cell_type": "code",
   "execution_count": 57,
   "metadata": {},
   "outputs": [
    {
     "data": {
      "text/plain": [
       "0.65202478317148971"
      ]
     },
     "execution_count": 57,
     "metadata": {},
     "output_type": "execute_result"
    }
   ],
   "source": [
    "lasso.score(dummy_df[x_vars],dummy_df['price_change_future'] > 0)"
   ]
  },
  {
   "cell_type": "code",
   "execution_count": 60,
   "metadata": {},
   "outputs": [
    {
     "data": {
      "text/plain": [
       "array([[  5.75885890e-07,   5.94585475e-06,   3.26306153e-05,\n",
       "          5.16918804e-07,  -7.11816996e-06,  -1.30345483e-05,\n",
       "          1.83017086e-05,   2.41880903e-03,   2.16857877e-07,\n",
       "         -1.05585520e-06,   1.45830790e-06,   3.41616715e-06,\n",
       "          2.63987073e-09,  -7.63078062e-06,   2.09365979e-06,\n",
       "          2.16857877e-07]])"
      ]
     },
     "execution_count": 60,
     "metadata": {},
     "output_type": "execute_result"
    }
   ],
   "source": [
    "lasso.coef_"
   ]
  },
  {
   "cell_type": "code",
   "execution_count": 59,
   "metadata": {},
   "outputs": [
    {
     "data": {
      "text/plain": [
       "(array([   1918.,    2206.,   12910.,   55151.,  235918.,   83824.,\n",
       "          14173.,    1596.,    1242.,    3600.]),\n",
       " array([ 0.36389295,  0.42750263,  0.4911123 ,  0.55472198,  0.61833166,\n",
       "         0.68194133,  0.74555101,  0.80916069,  0.87277036,  0.93638004,\n",
       "         0.99998972]),\n",
       " <a list of 10 Patch objects>)"
      ]
     },
     "execution_count": 59,
     "metadata": {},
     "output_type": "execute_result"
    },
    {
     "data": {
      "image/png": "[encoded data removed]",
      "text/plain": [
       "<matplotlib.figure.Figure at 0x17191168f98>"
      ]
     },
     "metadata": {},
     "output_type": "display_data"
    }
   ],
   "source": [
    "plt.hist(lasso.predict_proba(dummy_df[x_vars])[:,1])"
   ]
  },
  {
   "cell_type": "markdown",
   "metadata": {},
   "source": [
    "### For the next mdoels, we need a training and testing set"
   ]
  },
  {
   "cell_type": "code",
   "execution_count": 79,
   "metadata": {
    "collapsed": true
   },
   "outputs": [],
   "source": [
    "t = 3600\n",
    "\n",
    "dummy_df = sentiment\n",
    "dummy_df['price_change_future'] = (dummy_df['price'].shift(-t) - dummy_df['price']).fillna(method = 'ffill')\n",
    "dummy_df['sum_count'] = sentiment['count'].rolling(t-1).sum().shift(2-t).fillna(method = 'ffill')\n",
    "dummy_df['sum_favorites'] = sentiment['favorites'].rolling(t-1).sum().shift(2-t).fillna(method = 'ffill')\n",
    "dummy_df['sum_retweets'] = sentiment['retweets'].rolling(t-1).sum().shift(2-t).fillna(method = 'ffill')\n",
    "dummy_df['sum_avg_sentiment'] = sentiment['avg_sentiment'].rolling(t-1).sum().shift(2-t).fillna(method = 'ffill')\n",
    "\n",
    "x_vars = ['count','favorites','retweets','avg_sentiment',\n",
    "          'sum_count','sum_favorites','sum_retweets','sum_avg_sentiment',\n",
    "          'Sunday','Monday','Tuesday','Wednesday','Thursday','Friday','Saturday','Sunday']\n",
    "\n",
    "dummy_df = dummy_df.sample(frac = 1)\n",
    "n = int(0.75 * len(dummy_df))\n",
    "train = dummy_df[:n]\n",
    "test = dummy_df[n:]\n",
    "x_train = train[x_vars]\n",
    "x_test = test[x_vars]\n",
    "y_train = train['price_change_future'] > 0\n",
    "y_test = test['price_change_future'] > 0"
   ]
  },
  {
   "cell_type": "markdown",
   "metadata": {},
   "source": [
    "### k-nearest neighbors\n",
    "This takes a really long time"
   ]
  },
  {
   "cell_type": "code",
   "execution_count": 62,
   "metadata": {},
   "outputs": [
    {
     "data": {
      "text/plain": [
       "KNeighborsClassifier(algorithm='auto', leaf_size=30, metric='minkowski',\n",
       "           metric_params=None, n_jobs=1, n_neighbors=1000, p=2,\n",
       "           weights='uniform')"
      ]
     },
     "execution_count": 62,
     "metadata": {},
     "output_type": "execute_result"
    }
   ],
   "source": [
    "from sklearn.neighbors import KNeighborsClassifier\n",
    "\n",
    "knn = KNeighborsClassifier(n_neighbors = 1000)\n",
    "dummy_df = dummy_df.sample(frac = 1)\n",
    "knn.fit(x_train,y_train)"
   ]
  },
  {
   "cell_type": "code",
   "execution_count": null,
   "metadata": {
    "collapsed": true
   },
   "outputs": [],
   "source": [
    "knn.score(dummy_df[x_vars],dummy_df['price_change_future'] > 0)"
   ]
  },
  {
   "cell_type": "markdown",
   "metadata": {
    "collapsed": true
   },
   "source": [
    "### Support Vector Machine"
   ]
  },
  {
   "cell_type": "code",
   "execution_count": null,
   "metadata": {
    "collapsed": true
   },
   "outputs": [],
   "source": [
    "from sklearn.svm import SVC\n",
    "\n",
    "clf = SVC()\n",
    "clf.fit(x_train,y_train)"
   ]
  },
  {
   "cell_type": "code",
   "execution_count": null,
   "metadata": {
    "collapsed": true
   },
   "outputs": [],
   "source": [
    "clf.score(x_test,y_test)"
   ]
  },
  {
   "cell_type": "markdown",
   "metadata": {},
   "source": [
    "## Now Trying to Predict the Actual Price Change"
   ]
  },
  {
   "cell_type": "code",
   "execution_count": 68,
   "metadata": {},
   "outputs": [
    {
     "data": {
      "text/plain": [
       "LinearRegression(copy_X=True, fit_intercept=True, n_jobs=1, normalize=False)"
      ]
     },
     "execution_count": 68,
     "metadata": {},
     "output_type": "execute_result"
    }
   ],
   "source": [
    "dummy_df = sentiment\n",
    "dummy_df['price_change_future'] = (dummy_df['price'].shift(-3600) - dummy_df['price']).fillna(method = 'ffill')\n",
    "dummy_df['sum_count'] = sentiment['count'].rolling(3599).sum().shift(-3598).fillna(method = 'ffill')\n",
    "dummy_df['sum_favorites'] = sentiment['favorites'].rolling(3599).sum().shift(-3598).fillna(method = 'ffill')\n",
    "dummy_df['sum_retweets'] = sentiment['retweets'].rolling(3599).sum().shift(-3598).fillna(method = 'ffill')\n",
    "dummy_df['sum_avg_sentiment'] = sentiment['avg_sentiment'].rolling(3599).sum().shift(-3598).fillna(method = 'ffill')\n",
    "\n",
    "x_vars = ['count','favorites','retweets','avg_sentiment',\n",
    "          'sum_count','sum_favorites','sum_retweets','sum_avg_sentiment',\n",
    "          'Sunday','Monday','Tuesday','Wednesday','Thursday','Friday','Saturday','Sunday']\n",
    "\n",
    "dummy_df = dummy_df.sample(frac = 1)\n",
    "n = int(0.75 * len(dummy_df))\n",
    "train = dummy_df[:n]\n",
    "test = dummy_df[n:]\n",
    "x_train = train[x_vars]\n",
    "x_test = test[x_vars]\n",
    "y_train = train['price_change_future']\n",
    "y_test = test['price_change_future']\n",
    "\n",
    "from sklearn import linear_model\n",
    "lm = linear_model.LinearRegression()\n",
    "lm.fit(x_train, y_train)"
   ]
  },
  {
   "cell_type": "code",
   "execution_count": 69,
   "metadata": {},
   "outputs": [
    {
     "data": {
      "text/plain": [
       "0.11034966643408595"
      ]
     },
     "execution_count": 69,
     "metadata": {},
     "output_type": "execute_result"
    }
   ],
   "source": [
    "lm.score(x_test,y_test)"
   ]
  },
  {
   "cell_type": "code",
   "execution_count": 73,
   "metadata": {
    "collapsed": true
   },
   "outputs": [],
   "source": [
    "y_pred = lm.predict(x_test)\n",
    "y_true = y_test"
   ]
  },
  {
   "cell_type": "code",
   "execution_count": 74,
   "metadata": {},
   "outputs": [
    {
     "data": {
      "text/plain": [
       "Text(0.5,0,'Predicted Price Change')"
      ]
     },
     "execution_count": 74,
     "metadata": {},
     "output_type": "execute_result"
    },
    {
     "data": {
      "image/png": "[encoded data removed]",
      "text/plain": [
       "<matplotlib.figure.Figure at 0x2c53126d160>"
      ]
     },
     "metadata": {},
     "output_type": "display_data"
    }
   ],
   "source": [
    "## residual analysis\n",
    "plt.plot(y_pred,np.sort(y_true) - y_pred,'o')\n",
    "plt.ylabel('Residual')\n",
    "plt.xlabel('Predicted Price Change')\n",
    "\n",
    "## shows non-linearity \n",
    "## maybe equal variance?"
   ]
  },
  {
   "cell_type": "code",
   "execution_count": 53,
   "metadata": {},
   "outputs": [
    {
     "name": "stderr",
     "output_type": "stream",
     "text": [
      "C:\\Users\\Hans\\Anaconda3\\lib\\site-packages\\scipy\\stats\\morestats.py:1326: UserWarning: p-value may not be accurate for N > 5000.\n",
      "  warnings.warn(\"p-value may not be accurate for N > 5000.\")\n"
     ]
    },
    {
     "data": {
      "text/plain": [
       "(0.9479784965515137, 0.0)"
      ]
     },
     "execution_count": 53,
     "metadata": {},
     "output_type": "execute_result"
    }
   ],
   "source": [
    "## shapiro-wilks test\n",
    "from scipy.stats import shapiro\n",
    "shapiro(y_pred - np.sort(y_true))"
   ]
  },
  {
   "cell_type": "code",
   "execution_count": null,
   "metadata": {
    "collapsed": true
   },
   "outputs": [],
   "source": []
  },
  {
   "cell_type": "markdown",
   "metadata": {},
   "source": [
    "##  Building a Model for Trading"
   ]
  },
  {
   "cell_type": "code",
   "execution_count": null,
   "metadata": {
    "collapsed": true
   },
   "outputs": [],
   "source": []
  },
  {
   "cell_type": "code",
   "execution_count": null,
   "metadata": {
    "collapsed": true
   },
   "outputs": [],
   "source": []
  },
  {
   "cell_type": "code",
   "execution_count": null,
   "metadata": {
    "collapsed": true
   },
   "outputs": [],
   "source": []
  },
  {
   "cell_type": "code",
   "execution_count": null,
   "metadata": {
    "collapsed": true
   },
   "outputs": [],
   "source": []
  }
 ],
 "metadata": {
  "kernelspec": {
   "display_name": "Python 3",
   "language": "python",
   "name": "python3"
  },
  "language_info": {
   "codemirror_mode": {
    "name": "ipython",
    "version": 3
   },
   "file_extension": ".py",
   "mimetype": "text/x-python",
   "name": "python",
   "nbconvert_exporter": "python",
   "pygments_lexer": "ipython3",
   "version": "3.6.3"
  }
 },
 "nbformat": 4,
 "nbformat_minor": 2
}
